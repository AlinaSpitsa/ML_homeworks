{
  "nbformat": 4,
  "nbformat_minor": 0,
  "metadata": {
    "colab": {
      "name": "Untitled1.ipynb",
      "provenance": [],
      "authorship_tag": "ABX9TyP2j9Ek4k8xMTx618TzSODq"
    },
    "kernelspec": {
      "name": "python3",
      "display_name": "Python 3"
    },
    "language_info": {
      "name": "python"
    }
  },
  "cells": [
    {
      "cell_type": "code",
      "execution_count": 9,
      "metadata": {
        "colab": {
          "base_uri": "https://localhost:8080/"
        },
        "id": "HwBCKgDMvk1V",
        "outputId": "64c7b182-cac3-48b6-be22-ed328757be6b"
      },
      "outputs": [
        {
          "output_type": "stream",
          "name": "stdout",
          "text": [
            "ax^2+bx+c, write a, b and c:\n",
            "a: 5\n",
            "b: -6\n",
            "c: 2\n",
            "x1 = (0.6+0.2j)\n",
            "x2 = (0.6-0.2j)\n"
          ]
        }
      ],
      "source": [
        "import math\n",
        "import cmath\n",
        " \n",
        "def solve(a, b, c):\n",
        "    if a == 0 and b == 0 and c == 0:\n",
        "        print(\"X любое число!\")\n",
        "    else:\n",
        "        if a == 0 and b == 0:\n",
        "            print(\"Нет решений!\")\n",
        "        else:\n",
        "            if a == 0 and c == 0:\n",
        "                print(\"x =\", 0)\n",
        "            else:\n",
        "                if a == 0:\n",
        "                    x = (-c / b)\n",
        "                    print(\"x =\", x)\n",
        "                else:\n",
        "                    d = b * b - 4 * a * c\n",
        "                    if d > 0:\n",
        "                        x1 = (-b + math.sqrt(d)) / (2 * a)\n",
        "                        x2 = (-b - math.sqrt(d)) / (2 * a)\n",
        "                        if x1 == x2:\n",
        "                            print(\"x1 =\", x1)\n",
        "                        else:\n",
        "                            print(\"x1 =\", x1)\n",
        "                            print(\"x2 =\", x2)\n",
        "                    else:\n",
        "                        x1 = (-b + cmath.sqrt(d)) / (2 * a)\n",
        "                        x2 = (-b - cmath.sqrt(d)) / (2 * a)\n",
        "                        if x1 == x2:\n",
        "                            print(\"x1 =\", x1)\n",
        "                        else:\n",
        "                            print(\"x1 =\", x1)\n",
        "                            print(\"x2 =\", x2)\n",
        "                        \n",
        "def get_coef():\n",
        "    print('ax^2+bx+c, write a, b and c:')\n",
        "    a = int(input('a: '))\n",
        "    b = int(input('b: '))\n",
        "    c = int(input('c: '))\n",
        "    solve(a, b, c)\n",
        "    \n",
        "get_coef()"
      ]
    }
  ]
}