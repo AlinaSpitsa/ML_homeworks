{
 "cells": [
  {
   "cell_type": "markdown",
   "id": "a1aef29b",
   "metadata": {},
   "source": [
    "`Дисциплина: Методы и технологии машинного обучения`   \n",
    "`Уровень подготовки: бакалавриат`   \n",
    "`Направление подготовки: 01.03.02 Прикладная математика и информатика`   \n",
    "`Семестр: осень 2021/2022`   \n",
    "\n",
    "\n",
    "\n",
    "\n",
    "# Лабораторная работа №3: Линейные модели. Кросс-валидация. \n",
    "\n",
    "В практических примерах ниже показано:   \n",
    "\n",
    "* как пользоваться инструментами предварительного анализа для поиска линейных взаимосвязей \n",
    "* как строить и интерпретировать линейные модели с логарифмами  \n",
    "* как оценивать точность моделей с перекрёстной проверкой (LOOCV, проверка по блокам)\n",
    "\n",
    "*Модели*: множественная линейная регрессия \n",
    "*Данные*: `Boston_for_lab` (вариант 1)"
   ]
  },
  {
   "cell_type": "code",
   "execution_count": 1,
   "id": "701db136",
   "metadata": {},
   "outputs": [
    {
     "data": {
      "text/html": [
       "<style>.container { width:80% !important; }</style>"
      ],
      "text/plain": [
       "<IPython.core.display.HTML object>"
      ]
     },
     "metadata": {},
     "output_type": "display_data"
    }
   ],
   "source": [
    "# настройка ширины страницы блокнота .......................................\n",
    "from IPython.core.display import display, HTML\n",
    "display(HTML(\"<style>.container { width:80% !important; }</style>\"))"
   ]
  },
  {
   "cell_type": "markdown",
   "id": "61b9ab5d",
   "metadata": {},
   "source": [
    "# Указания к выполнению\n",
    "\n",
    "\n",
    "## Загружаем пакеты"
   ]
  },
  {
   "cell_type": "code",
   "execution_count": 17,
   "id": "c8fa189c",
   "metadata": {},
   "outputs": [],
   "source": [
    "# загрузка пакетов: инструменты --------------------------------------------\n",
    "#  работа с массивами\n",
    "import numpy as np\n",
    "#  фреймы данных\n",
    "import pandas as pd\n",
    "#  графики\n",
    "import matplotlib as mpl\n",
    "#  стили и шаблоны графиков на основе matplotlib\n",
    "import seaborn as sns\n",
    "# перекодировка категориальных переменных\n",
    "from sklearn.preprocessing import LabelEncoder\n",
    "#  тест Шапиро-Уилка на нормальность распределения\n",
    "from scipy.stats import shapiro\n",
    "#  для таймера\n",
    "import time\n",
    "\n",
    "# загрузка пакетов: модели -------------------------------------------------\n",
    "#  линейные модели\n",
    "import sklearn.linear_model as skl_lm\n",
    "#  расчёт MSE\n",
    "from sklearn.metrics import mean_squared_error\n",
    "#  кросс-валидация\n",
    "from sklearn.model_selection import train_test_split, LeaveOneOut \n",
    "from sklearn.model_selection import KFold, cross_val_score\n",
    "#  полиномиальные модели\n",
    "from sklearn.preprocessing import PolynomialFeatures"
   ]
  },
  {
   "cell_type": "code",
   "execution_count": 18,
   "id": "43a4a48e",
   "metadata": {},
   "outputs": [],
   "source": [
    "# константы\n",
    "#  ядро для генератора случайных чисел\n",
    "my_seed = 1\n",
    "#  создаём псевдоним для короткого обращения к графикам\n",
    "plt = mpl.pyplot\n",
    "# настройка стиля и отображения графиков\n",
    "#  примеры стилей и шаблонов графиков: \n",
    "#  http://tonysyu.github.io/raw_content/matplotlib-style-gallery/gallery.html\n",
    "mpl.style.use('seaborn-whitegrid')\n",
    "sns.set_palette(\"Set2\")\n",
    "# раскомментируйте следующую строку, чтобы посмотреть палитру\n",
    "# sns.color_palette(\"Set2\")"
   ]
  },
  {
   "cell_type": "markdown",
   "id": "87618f1b",
   "metadata": {},
   "source": [
    "## Загружаем данные\n",
    "\n",
    "Набор данных `Boston_for_lab` в формате .csv доступен для загрузки по адресу: <https://github.com/aksyuk/MTML/blob/main/Labs/data/Boston_for_lab.csv>. Справочник к данным можно найти по адресу: <https://github.com/aksyuk/MTML/blob/main/Labs/data/CodeBook_Boston_for_lab.md>.  \n",
    "\n",
    "`medv` — медианная стоимость домов, занимаемых владельцами, в тысячах долларов;\n",
    "\n",
    "`zn` — доля земли под жилую застройку, зонированная под участки более 25000 кв. футов;\n",
    "\n",
    "`indus` — доля акров, не связанных с розничной торговлей, на город;\n",
    "\n",
    "`tax_over_400` — фиктивная переменная: 1 если полная ставка налога на имущество \\ на $10000 превышает 400.\n",
    "\n",
    "Загружаем данные во фрейм и кодируем категориальные переменные.  "
   ]
  },
  {
   "cell_type": "code",
   "execution_count": 19,
   "id": "a7e42f2c",
   "metadata": {},
   "outputs": [
    {
     "name": "stdout",
     "output_type": "stream",
     "text": [
      "Число строк и столбцов в наборе данных:\n",
      " (506, 15)\n"
     ]
    }
   ],
   "source": [
    "# читаем таблицу из файла .csv во фрейм\n",
    "fileURL = 'https://raw.githubusercontent.com/aksyuk/MTML/main/Labs/data/Boston_for_lab.csv'\n",
    "DF_raw = pd.read_csv(fileURL)\n",
    "\n",
    "# выясняем размерность фрейма\n",
    "print('Число строк и столбцов в наборе данных:\\n', DF_raw.shape)"
   ]
  },
  {
   "cell_type": "code",
   "execution_count": 20,
   "id": "2c2eedc8",
   "metadata": {},
   "outputs": [
    {
     "data": {
      "text/html": [
       "<div>\n",
       "<style scoped>\n",
       "    .dataframe tbody tr th:only-of-type {\n",
       "        vertical-align: middle;\n",
       "    }\n",
       "\n",
       "    .dataframe tbody tr th {\n",
       "        vertical-align: top;\n",
       "    }\n",
       "\n",
       "    .dataframe thead th {\n",
       "        text-align: right;\n",
       "    }\n",
       "</style>\n",
       "<table border=\"1\" class=\"dataframe\">\n",
       "  <thead>\n",
       "    <tr style=\"text-align: right;\">\n",
       "      <th></th>\n",
       "      <th>crim</th>\n",
       "      <th>zn</th>\n",
       "      <th>indus</th>\n",
       "      <th>chas</th>\n",
       "      <th>nox</th>\n",
       "      <th>rm</th>\n",
       "      <th>age</th>\n",
       "      <th>dis</th>\n",
       "      <th>rad</th>\n",
       "      <th>tax</th>\n",
       "      <th>ptratio</th>\n",
       "      <th>black</th>\n",
       "      <th>lstat</th>\n",
       "      <th>medv</th>\n",
       "      <th>tax_over_400</th>\n",
       "    </tr>\n",
       "  </thead>\n",
       "  <tbody>\n",
       "    <tr>\n",
       "      <th>0</th>\n",
       "      <td>0.00632</td>\n",
       "      <td>18.0</td>\n",
       "      <td>2.31</td>\n",
       "      <td>0</td>\n",
       "      <td>0.538</td>\n",
       "      <td>6.575</td>\n",
       "      <td>65.2</td>\n",
       "      <td>4.0900</td>\n",
       "      <td>1</td>\n",
       "      <td>296</td>\n",
       "      <td>15.3</td>\n",
       "      <td>396.90</td>\n",
       "      <td>4.98</td>\n",
       "      <td>24.0</td>\n",
       "      <td>0</td>\n",
       "    </tr>\n",
       "    <tr>\n",
       "      <th>1</th>\n",
       "      <td>0.02731</td>\n",
       "      <td>0.0</td>\n",
       "      <td>7.07</td>\n",
       "      <td>0</td>\n",
       "      <td>0.469</td>\n",
       "      <td>6.421</td>\n",
       "      <td>78.9</td>\n",
       "      <td>4.9671</td>\n",
       "      <td>2</td>\n",
       "      <td>242</td>\n",
       "      <td>17.8</td>\n",
       "      <td>396.90</td>\n",
       "      <td>9.14</td>\n",
       "      <td>21.6</td>\n",
       "      <td>0</td>\n",
       "    </tr>\n",
       "    <tr>\n",
       "      <th>2</th>\n",
       "      <td>0.02729</td>\n",
       "      <td>0.0</td>\n",
       "      <td>7.07</td>\n",
       "      <td>0</td>\n",
       "      <td>0.469</td>\n",
       "      <td>7.185</td>\n",
       "      <td>61.1</td>\n",
       "      <td>4.9671</td>\n",
       "      <td>2</td>\n",
       "      <td>242</td>\n",
       "      <td>17.8</td>\n",
       "      <td>392.83</td>\n",
       "      <td>4.03</td>\n",
       "      <td>34.7</td>\n",
       "      <td>0</td>\n",
       "    </tr>\n",
       "    <tr>\n",
       "      <th>3</th>\n",
       "      <td>0.03237</td>\n",
       "      <td>0.0</td>\n",
       "      <td>2.18</td>\n",
       "      <td>0</td>\n",
       "      <td>0.458</td>\n",
       "      <td>6.998</td>\n",
       "      <td>45.8</td>\n",
       "      <td>6.0622</td>\n",
       "      <td>3</td>\n",
       "      <td>222</td>\n",
       "      <td>18.7</td>\n",
       "      <td>394.63</td>\n",
       "      <td>2.94</td>\n",
       "      <td>33.4</td>\n",
       "      <td>0</td>\n",
       "    </tr>\n",
       "    <tr>\n",
       "      <th>4</th>\n",
       "      <td>0.06905</td>\n",
       "      <td>0.0</td>\n",
       "      <td>2.18</td>\n",
       "      <td>0</td>\n",
       "      <td>0.458</td>\n",
       "      <td>7.147</td>\n",
       "      <td>54.2</td>\n",
       "      <td>6.0622</td>\n",
       "      <td>3</td>\n",
       "      <td>222</td>\n",
       "      <td>18.7</td>\n",
       "      <td>396.90</td>\n",
       "      <td>5.33</td>\n",
       "      <td>36.2</td>\n",
       "      <td>0</td>\n",
       "    </tr>\n",
       "  </tbody>\n",
       "</table>\n",
       "</div>"
      ],
      "text/plain": [
       "      crim    zn  indus  chas    nox     rm   age     dis  rad  tax  ptratio  \\\n",
       "0  0.00632  18.0   2.31     0  0.538  6.575  65.2  4.0900    1  296     15.3   \n",
       "1  0.02731   0.0   7.07     0  0.469  6.421  78.9  4.9671    2  242     17.8   \n",
       "2  0.02729   0.0   7.07     0  0.469  7.185  61.1  4.9671    2  242     17.8   \n",
       "3  0.03237   0.0   2.18     0  0.458  6.998  45.8  6.0622    3  222     18.7   \n",
       "4  0.06905   0.0   2.18     0  0.458  7.147  54.2  6.0622    3  222     18.7   \n",
       "\n",
       "    black  lstat  medv  tax_over_400  \n",
       "0  396.90   4.98  24.0             0  \n",
       "1  396.90   9.14  21.6             0  \n",
       "2  392.83   4.03  34.7             0  \n",
       "3  394.63   2.94  33.4             0  \n",
       "4  396.90   5.33  36.2             0  "
      ]
     },
     "execution_count": 20,
     "metadata": {},
     "output_type": "execute_result"
    }
   ],
   "source": [
    "# первые 5 строк фрейма\n",
    "DF_raw.head(5)"
   ]
  },
  {
   "cell_type": "code",
   "execution_count": 22,
   "id": "1e97a472",
   "metadata": {},
   "outputs": [
    {
     "data": {
      "text/plain": [
       "crim            float64\n",
       "zn              float64\n",
       "indus           float64\n",
       "chas              int64\n",
       "nox             float64\n",
       "rm              float64\n",
       "age             float64\n",
       "dis             float64\n",
       "rad               int64\n",
       "tax               int64\n",
       "ptratio         float64\n",
       "black           float64\n",
       "lstat           float64\n",
       "medv            float64\n",
       "tax_over_400      int64\n",
       "dtype: object"
      ]
     },
     "execution_count": 22,
     "metadata": {},
     "output_type": "execute_result"
    }
   ],
   "source": [
    "# типы столбцов фрейма\n",
    "DF_raw.dtypes"
   ]
  },
  {
   "cell_type": "markdown",
   "id": "d4a540a2",
   "metadata": {},
   "source": [
    "Проверим, нет ли в таблице пропусков.  "
   ]
  },
  {
   "cell_type": "code",
   "execution_count": 23,
   "id": "42a96cd9",
   "metadata": {},
   "outputs": [
    {
     "data": {
      "text/plain": [
       "crim            0\n",
       "zn              0\n",
       "indus           0\n",
       "chas            0\n",
       "nox             0\n",
       "rm              0\n",
       "age             0\n",
       "dis             0\n",
       "rad             0\n",
       "tax             0\n",
       "ptratio         0\n",
       "black           0\n",
       "lstat           0\n",
       "medv            0\n",
       "tax_over_400    0\n",
       "dtype: int64"
      ]
     },
     "execution_count": 23,
     "metadata": {},
     "output_type": "execute_result"
    }
   ],
   "source": [
    "# считаем пропуски в каждом столбце\n",
    "DF_raw.isna().sum()"
   ]
  },
  {
   "cell_type": "markdown",
   "id": "2941191c",
   "metadata": {},
   "source": [
    "Пропусков не обнаружено.  "
   ]
  },
  {
   "cell_type": "markdown",
   "id": "4a0026c3",
   "metadata": {},
   "source": [
    "Кодировать нашу переменную tax_over_400 не надо. "
   ]
  },
  {
   "cell_type": "code",
   "execution_count": 24,
   "id": "3d95125d",
   "metadata": {},
   "outputs": [
    {
     "data": {
      "text/plain": [
       "Index(['medv', 'zn', 'indus', 'tax_over_400'], dtype='object')"
      ]
     },
     "execution_count": 24,
     "metadata": {},
     "output_type": "execute_result"
    }
   ],
   "source": [
    "# оставляем в наборе данных только то, что нужно \n",
    "DF_all = DF_raw[['medv', 'zn', 'indus', 'tax_over_400']]\n",
    "\n",
    "DF_all.columns"
   ]
  },
  {
   "cell_type": "code",
   "execution_count": 25,
   "id": "fc8ced80",
   "metadata": {},
   "outputs": [
    {
     "data": {
      "text/plain": [
       "medv            float64\n",
       "zn              float64\n",
       "indus           float64\n",
       "tax_over_400      int64\n",
       "dtype: object"
      ]
     },
     "execution_count": 25,
     "metadata": {},
     "output_type": "execute_result"
    }
   ],
   "source": [
    "DF_all.dtypes"
   ]
  },
  {
   "cell_type": "code",
   "execution_count": 26,
   "id": "55cd689c",
   "metadata": {},
   "outputs": [],
   "source": [
    "# удаляем фрейм-исходник\n",
    "del DF_raw"
   ]
  },
  {
   "cell_type": "markdown",
   "id": "3e2e4cdb",
   "metadata": {},
   "source": [
    "Прежде чем переходить к анализу данных, разделим фрейм на две части: одна (80%) станет основой для обучения моделей, на вторую (20%) мы сделаем прогноз по лучшей модели.  "
   ]
  },
  {
   "cell_type": "code",
   "execution_count": 27,
   "id": "f42f55d0",
   "metadata": {},
   "outputs": [],
   "source": [
    "# данные для построения моделей\n",
    "DF = DF_all.sample(frac=0.8, random_state=my_seed)\n",
    "\n",
    "# данные для прогнозов\n",
    "DF_predict = DF_all.drop(DF.index)"
   ]
  },
  {
   "cell_type": "markdown",
   "id": "25fbd25b",
   "metadata": {},
   "source": [
    "## Предварительный анализ данных   \n",
    "\n",
    "### Считаем описательные статистики   \n",
    "\n",
    "Рассчитаем описательные статистики для непрерывных переменных. Из таблицы ниже можно видеть, что переменная `medv`, которая является зависимой переменной модели, не сильно отличается по масштабу от всех остальных.    Также заметим, что из всех объясняющих только переменная `zn` принимает нулевые значения. Остальные показатели положительны.  "
   ]
  },
  {
   "cell_type": "code",
   "execution_count": 29,
   "id": "26582dc3",
   "metadata": {},
   "outputs": [
    {
     "data": {
      "text/html": [
       "<div>\n",
       "<style scoped>\n",
       "    .dataframe tbody tr th:only-of-type {\n",
       "        vertical-align: middle;\n",
       "    }\n",
       "\n",
       "    .dataframe tbody tr th {\n",
       "        vertical-align: top;\n",
       "    }\n",
       "\n",
       "    .dataframe thead th {\n",
       "        text-align: right;\n",
       "    }\n",
       "</style>\n",
       "<table border=\"1\" class=\"dataframe\">\n",
       "  <thead>\n",
       "    <tr style=\"text-align: right;\">\n",
       "      <th></th>\n",
       "      <th>medv</th>\n",
       "      <th>zn</th>\n",
       "      <th>indus</th>\n",
       "    </tr>\n",
       "  </thead>\n",
       "  <tbody>\n",
       "    <tr>\n",
       "      <th>count</th>\n",
       "      <td>405.000000</td>\n",
       "      <td>405.000000</td>\n",
       "      <td>405.000000</td>\n",
       "    </tr>\n",
       "    <tr>\n",
       "      <th>mean</th>\n",
       "      <td>22.653580</td>\n",
       "      <td>11.646914</td>\n",
       "      <td>11.023111</td>\n",
       "    </tr>\n",
       "    <tr>\n",
       "      <th>std</th>\n",
       "      <td>9.142774</td>\n",
       "      <td>23.673496</td>\n",
       "      <td>6.809215</td>\n",
       "    </tr>\n",
       "    <tr>\n",
       "      <th>min</th>\n",
       "      <td>5.600000</td>\n",
       "      <td>0.000000</td>\n",
       "      <td>0.740000</td>\n",
       "    </tr>\n",
       "    <tr>\n",
       "      <th>25%</th>\n",
       "      <td>17.100000</td>\n",
       "      <td>0.000000</td>\n",
       "      <td>5.130000</td>\n",
       "    </tr>\n",
       "    <tr>\n",
       "      <th>50%</th>\n",
       "      <td>21.500000</td>\n",
       "      <td>0.000000</td>\n",
       "      <td>8.560000</td>\n",
       "    </tr>\n",
       "    <tr>\n",
       "      <th>75%</th>\n",
       "      <td>25.300000</td>\n",
       "      <td>12.500000</td>\n",
       "      <td>18.100000</td>\n",
       "    </tr>\n",
       "    <tr>\n",
       "      <th>max</th>\n",
       "      <td>50.000000</td>\n",
       "      <td>100.000000</td>\n",
       "      <td>27.740000</td>\n",
       "    </tr>\n",
       "  </tbody>\n",
       "</table>\n",
       "</div>"
      ],
      "text/plain": [
       "             medv          zn       indus\n",
       "count  405.000000  405.000000  405.000000\n",
       "mean    22.653580   11.646914   11.023111\n",
       "std      9.142774   23.673496    6.809215\n",
       "min      5.600000    0.000000    0.740000\n",
       "25%     17.100000    0.000000    5.130000\n",
       "50%     21.500000    0.000000    8.560000\n",
       "75%     25.300000   12.500000   18.100000\n",
       "max     50.000000  100.000000   27.740000"
      ]
     },
     "execution_count": 29,
     "metadata": {},
     "output_type": "execute_result"
    }
   ],
   "source": [
    "# описательные статистики для непрерывных переменных\n",
    "DF[['medv', 'zn', 'indus']].describe()"
   ]
  },
  {
   "cell_type": "markdown",
   "id": "3c626566",
   "metadata": {},
   "source": [
    "### Строим графики  \n",
    "\n",
    "Посмотрим на графики взаимного разброса непрерывных переменных. "
   ]
  },
  {
   "cell_type": "code",
   "execution_count": 30,
   "id": "df2c9748",
   "metadata": {},
   "outputs": [
    {
     "data": {
      "image/png": "[encoded data removed]",
      "text/plain": [
       "<Figure size 540x540 with 12 Axes>"
      ]
     },
     "metadata": {},
     "output_type": "display_data"
    }
   ],
   "source": [
    "# матричный график разброса с линиями регрессии\n",
    "sns.pairplot(DF[['medv', 'zn', 'indus']])\n",
    "plt.show()"
   ]
  },
  {
   "cell_type": "markdown",
   "id": "a49d675b",
   "metadata": {},
   "source": [
    "Судя по этим графикам:  \n",
    "* распределение зависимой `medv` похоже на нормальное;  \n",
    "* из всех объясняющих скорее всего нормально распределена только `medv`;  \n",
    "* на графике разброса `medv` и `indus` заметно облако скоплений; \n",
    "\n",
    "Наблюдаемые закономерности могут объясняться влиянием одной или нескольких из фиктивных объясняющих переменных. Построим график, раскрасив точки цветом в зависимости от .  "
   ]
  },
  {
   "cell_type": "code",
   "execution_count": 31,
   "id": "1579c040",
   "metadata": {},
   "outputs": [
    {
     "data": {
      "image/png": "[encoded data removed]",
      "text/plain": [
       "<Figure size 609.125x540 with 12 Axes>"
      ]
     },
     "metadata": {},
     "output_type": "display_data"
    }
   ],
   "source": [
    "# матричный график разброса с цветом по полу\n",
    "sns.pairplot(DF[['medv', 'zn', 'indus', 'tax_over_400']],\n",
    "            hue='tax_over_400')\n",
    "\n",
    "plt.show()"
   ]
  },
  {
   "cell_type": "markdown",
   "id": "ec6cc1d4",
   "metadata": {},
   "source": [
    "Здесь фиктивная переменная tax_over_400 явно влияет на стоимость домов:\n",
    "* медианная стоимость для домов с налогом выше 400 дешевле, чем для домов с налогом ниже\n",
    "\n",
    "\n",
    "\n",
    "ХЗХЗХЗХЗХЗХЗХЗХЗ\n",
    "* доли земли под жилую застройку гораздо выше у домов с налогом выше 400, и ниже у домов с налогом <400\n",
    "* доля акров, не связанных с розничной торговли гораздо ниже у домов с налогом ниже 400 \n",
    "\n",
    "* на графике зависимости стоимости от доли земли под жилую застройку, зонированная под участки более 25000 кв. футов видно, что .....\n"
   ]
  },
  {
   "cell_type": "markdown",
   "id": "9199da53",
   "metadata": {},
   "source": [
    "Посмотрим на корреляционные матрицы непрерывных переменных фрейма. "
   ]
  },
  {
   "cell_type": "code",
   "execution_count": 33,
   "id": "fd276d8d",
   "metadata": {},
   "outputs": [
    {
     "data": {
      "text/html": [
       "<style  type=\"text/css\" >\n",
       "#T_949ff_row0_col0,#T_949ff_row1_col1,#T_949ff_row2_col2{\n",
       "            background-color:  #b40426;\n",
       "            color:  #f1f1f1;\n",
       "        }#T_949ff_row0_col1{\n",
       "            background-color:  #edd1c2;\n",
       "            color:  #000000;\n",
       "        }#T_949ff_row0_col2{\n",
       "            background-color:  #455cce;\n",
       "            color:  #f1f1f1;\n",
       "        }#T_949ff_row1_col0{\n",
       "            background-color:  #ead5c9;\n",
       "            color:  #000000;\n",
       "        }#T_949ff_row1_col2,#T_949ff_row2_col0,#T_949ff_row2_col1{\n",
       "            background-color:  #3b4cc0;\n",
       "            color:  #f1f1f1;\n",
       "        }</style><table id=\"T_949ff_\" ><thead>    <tr>        <th class=\"blank level0\" ></th>        <th class=\"col_heading level0 col0\" >medv</th>        <th class=\"col_heading level0 col1\" >zn</th>        <th class=\"col_heading level0 col2\" >indus</th>    </tr></thead><tbody>\n",
       "                <tr>\n",
       "                        <th id=\"T_949ff_level0_row0\" class=\"row_heading level0 row0\" >medv</th>\n",
       "                        <td id=\"T_949ff_row0_col0\" class=\"data row0 col0\" >1.00</td>\n",
       "                        <td id=\"T_949ff_row0_col1\" class=\"data row0 col1\" >0.34</td>\n",
       "                        <td id=\"T_949ff_row0_col2\" class=\"data row0 col2\" >-0.47</td>\n",
       "            </tr>\n",
       "            <tr>\n",
       "                        <th id=\"T_949ff_level0_row1\" class=\"row_heading level0 row1\" >zn</th>\n",
       "                        <td id=\"T_949ff_row1_col0\" class=\"data row1 col0\" >0.34</td>\n",
       "                        <td id=\"T_949ff_row1_col1\" class=\"data row1 col1\" >1.00</td>\n",
       "                        <td id=\"T_949ff_row1_col2\" class=\"data row1 col2\" >-0.53</td>\n",
       "            </tr>\n",
       "            <tr>\n",
       "                        <th id=\"T_949ff_level0_row2\" class=\"row_heading level0 row2\" >indus</th>\n",
       "                        <td id=\"T_949ff_row2_col0\" class=\"data row2 col0\" >-0.47</td>\n",
       "                        <td id=\"T_949ff_row2_col1\" class=\"data row2 col1\" >-0.53</td>\n",
       "                        <td id=\"T_949ff_row2_col2\" class=\"data row2 col2\" >1.00</td>\n",
       "            </tr>\n",
       "    </tbody></table>"
      ],
      "text/plain": [
       "<pandas.io.formats.style.Styler at 0x7fbbaf7ca0a0>"
      ]
     },
     "execution_count": 33,
     "metadata": {},
     "output_type": "execute_result"
    }
   ],
   "source": [
    "# корреляционная матрица по всем наблюдениям\n",
    "corr_mat = DF[['medv', 'zn', 'indus']].corr()\n",
    "corr_mat.style.background_gradient(cmap='coolwarm').set_precision(2)"
   ]
  },
  {
   "cell_type": "markdown",
   "id": "63af9b03",
   "metadata": {},
   "source": [
    "Без разбиения на классы наблюдений по фиктивным переменным максимальная теснота линейной взаимосвязи соответствует коэффициенту корреляции 0.34 между `medv` и `zn` . "
   ]
  },
  {
   "cell_type": "markdown",
   "id": "de885185",
   "metadata": {},
   "source": [
    "Посчитаем корреляционные матрицы для домов с налогом <400 и >400. "
   ]
  },
  {
   "cell_type": "code",
   "execution_count": 35,
   "id": "6d945191",
   "metadata": {},
   "outputs": [
    {
     "data": {
      "text/html": [
       "<style  type=\"text/css\" >\n",
       "#T_79eb5_row0_col0,#T_79eb5_row1_col1,#T_79eb5_row2_col2{\n",
       "            background-color:  #b40426;\n",
       "            color:  #f1f1f1;\n",
       "        }#T_79eb5_row0_col1{\n",
       "            background-color:  #d8dce2;\n",
       "            color:  #000000;\n",
       "        }#T_79eb5_row0_col2,#T_79eb5_row1_col0{\n",
       "            background-color:  #97b8ff;\n",
       "            color:  #000000;\n",
       "        }#T_79eb5_row1_col2,#T_79eb5_row2_col0,#T_79eb5_row2_col1{\n",
       "            background-color:  #3b4cc0;\n",
       "            color:  #f1f1f1;\n",
       "        }</style><table id=\"T_79eb5_\" ><thead>    <tr>        <th class=\"blank level0\" ></th>        <th class=\"col_heading level0 col0\" >medv</th>        <th class=\"col_heading level0 col1\" >zn</th>        <th class=\"col_heading level0 col2\" >indus</th>    </tr></thead><tbody>\n",
       "                <tr>\n",
       "                        <th id=\"T_79eb5_level0_row0\" class=\"row_heading level0 row0\" >medv</th>\n",
       "                        <td id=\"T_79eb5_row0_col0\" class=\"data row0 col0\" >1.00</td>\n",
       "                        <td id=\"T_79eb5_row0_col1\" class=\"data row0 col1\" >0.19</td>\n",
       "                        <td id=\"T_79eb5_row0_col2\" class=\"data row0 col2\" >-0.13</td>\n",
       "            </tr>\n",
       "            <tr>\n",
       "                        <th id=\"T_79eb5_level0_row1\" class=\"row_heading level0 row1\" >zn</th>\n",
       "                        <td id=\"T_79eb5_row1_col0\" class=\"data row1 col0\" >0.19</td>\n",
       "                        <td id=\"T_79eb5_row1_col1\" class=\"data row1 col1\" >1.00</td>\n",
       "                        <td id=\"T_79eb5_row1_col2\" class=\"data row1 col2\" >-0.57</td>\n",
       "            </tr>\n",
       "            <tr>\n",
       "                        <th id=\"T_79eb5_level0_row2\" class=\"row_heading level0 row2\" >indus</th>\n",
       "                        <td id=\"T_79eb5_row2_col0\" class=\"data row2 col0\" >-0.13</td>\n",
       "                        <td id=\"T_79eb5_row2_col1\" class=\"data row2 col1\" >-0.57</td>\n",
       "                        <td id=\"T_79eb5_row2_col2\" class=\"data row2 col2\" >1.00</td>\n",
       "            </tr>\n",
       "    </tbody></table>"
      ],
      "text/plain": [
       "<pandas.io.formats.style.Styler at 0x7fbbaf9af730>"
      ]
     },
     "execution_count": 35,
     "metadata": {},
     "output_type": "execute_result"
    }
   ],
   "source": [
    "# корреляционная матрица по классу налог >400\n",
    "corr_mat = DF.loc[DF['tax_over_400'] == 1][['medv', 'zn', 'indus']].corr()\n",
    "corr_mat.style.background_gradient(cmap='coolwarm').set_precision(2)"
   ]
  },
  {
   "cell_type": "code",
   "execution_count": 36,
   "id": "796b706e",
   "metadata": {},
   "outputs": [
    {
     "data": {
      "text/html": [
       "<style  type=\"text/css\" >\n",
       "#T_50fdd_row0_col0,#T_50fdd_row1_col1,#T_50fdd_row2_col2{\n",
       "            background-color:  #b40426;\n",
       "            color:  #f1f1f1;\n",
       "        }#T_50fdd_row0_col1{\n",
       "            background-color:  #dfdbd9;\n",
       "            color:  #000000;\n",
       "        }#T_50fdd_row0_col2{\n",
       "            background-color:  #4a63d3;\n",
       "            color:  #f1f1f1;\n",
       "        }#T_50fdd_row1_col0{\n",
       "            background-color:  #d8dce2;\n",
       "            color:  #000000;\n",
       "        }#T_50fdd_row1_col2,#T_50fdd_row2_col0,#T_50fdd_row2_col1{\n",
       "            background-color:  #3b4cc0;\n",
       "            color:  #f1f1f1;\n",
       "        }</style><table id=\"T_50fdd_\" ><thead>    <tr>        <th class=\"blank level0\" ></th>        <th class=\"col_heading level0 col0\" >medv</th>        <th class=\"col_heading level0 col1\" >zn</th>        <th class=\"col_heading level0 col2\" >indus</th>    </tr></thead><tbody>\n",
       "                <tr>\n",
       "                        <th id=\"T_50fdd_level0_row0\" class=\"row_heading level0 row0\" >medv</th>\n",
       "                        <td id=\"T_50fdd_row0_col0\" class=\"data row0 col0\" >1.00</td>\n",
       "                        <td id=\"T_50fdd_row0_col1\" class=\"data row0 col1\" >0.29</td>\n",
       "                        <td id=\"T_50fdd_row0_col2\" class=\"data row0 col2\" >-0.38</td>\n",
       "            </tr>\n",
       "            <tr>\n",
       "                        <th id=\"T_50fdd_level0_row1\" class=\"row_heading level0 row1\" >zn</th>\n",
       "                        <td id=\"T_50fdd_row1_col0\" class=\"data row1 col0\" >0.29</td>\n",
       "                        <td id=\"T_50fdd_row1_col1\" class=\"data row1 col1\" >1.00</td>\n",
       "                        <td id=\"T_50fdd_row1_col2\" class=\"data row1 col2\" >-0.46</td>\n",
       "            </tr>\n",
       "            <tr>\n",
       "                        <th id=\"T_50fdd_level0_row2\" class=\"row_heading level0 row2\" >indus</th>\n",
       "                        <td id=\"T_50fdd_row2_col0\" class=\"data row2 col0\" >-0.38</td>\n",
       "                        <td id=\"T_50fdd_row2_col1\" class=\"data row2 col1\" >-0.46</td>\n",
       "                        <td id=\"T_50fdd_row2_col2\" class=\"data row2 col2\" >1.00</td>\n",
       "            </tr>\n",
       "    </tbody></table>"
      ],
      "text/plain": [
       "<pandas.io.formats.style.Styler at 0x7fbbaf988730>"
      ]
     },
     "execution_count": 36,
     "metadata": {},
     "output_type": "execute_result"
    }
   ],
   "source": [
    "# корреляционная матрица по классу налог <400\n",
    "corr_mat = DF.loc[DF['tax_over_400'] == 0][['medv', 'zn', 'indus']].corr()\n",
    "corr_mat.style.background_gradient(cmap='coolwarm').set_precision(2)"
   ]
  },
  {
   "cell_type": "markdown",
   "id": "dfb924f3",
   "metadata": {},
   "source": [
    "Можно убедиться, что линейные связи с учётом `tax_over_400` не усиливаются, но во всех 3 матрица `medv` явно связана с `zn` гораздо больше."
   ]
  },
  {
   "cell_type": "markdown",
   "id": "7ec23130",
   "metadata": {},
   "source": [
    "\n",
    "\n",
    "### Логарифмируем зависимую переменную  \n",
    "\n",
    "Важным допущением линейной регрессии является нормальность зависимой переменной. Чтобы добиться нормального распределения, используют логарифмирование либо преобразование Бокса-Кокса. В этой лабораторной остановимся на логарифмировании.   "
   ]
  },
  {
   "cell_type": "code",
   "execution_count": 40,
   "id": "740818a3",
   "metadata": {},
   "outputs": [
    {
     "data": {
      "text/html": [
       "<div>\n",
       "<style scoped>\n",
       "    .dataframe tbody tr th:only-of-type {\n",
       "        vertical-align: middle;\n",
       "    }\n",
       "\n",
       "    .dataframe tbody tr th {\n",
       "        vertical-align: top;\n",
       "    }\n",
       "\n",
       "    .dataframe thead th {\n",
       "        text-align: right;\n",
       "    }\n",
       "</style>\n",
       "<table border=\"1\" class=\"dataframe\">\n",
       "  <thead>\n",
       "    <tr style=\"text-align: right;\">\n",
       "      <th></th>\n",
       "      <th>medv</th>\n",
       "      <th>zn</th>\n",
       "      <th>indus</th>\n",
       "    </tr>\n",
       "  </thead>\n",
       "  <tbody>\n",
       "    <tr>\n",
       "      <th>count</th>\n",
       "      <td>405.000000</td>\n",
       "      <td>405.000000</td>\n",
       "      <td>405.000000</td>\n",
       "    </tr>\n",
       "    <tr>\n",
       "      <th>mean</th>\n",
       "      <td>22.653580</td>\n",
       "      <td>11.646914</td>\n",
       "      <td>11.023111</td>\n",
       "    </tr>\n",
       "    <tr>\n",
       "      <th>std</th>\n",
       "      <td>9.142774</td>\n",
       "      <td>23.673496</td>\n",
       "      <td>6.809215</td>\n",
       "    </tr>\n",
       "    <tr>\n",
       "      <th>min</th>\n",
       "      <td>5.600000</td>\n",
       "      <td>0.000000</td>\n",
       "      <td>0.740000</td>\n",
       "    </tr>\n",
       "    <tr>\n",
       "      <th>25%</th>\n",
       "      <td>17.100000</td>\n",
       "      <td>0.000000</td>\n",
       "      <td>5.130000</td>\n",
       "    </tr>\n",
       "    <tr>\n",
       "      <th>50%</th>\n",
       "      <td>21.500000</td>\n",
       "      <td>0.000000</td>\n",
       "      <td>8.560000</td>\n",
       "    </tr>\n",
       "    <tr>\n",
       "      <th>75%</th>\n",
       "      <td>25.300000</td>\n",
       "      <td>12.500000</td>\n",
       "      <td>18.100000</td>\n",
       "    </tr>\n",
       "    <tr>\n",
       "      <th>max</th>\n",
       "      <td>50.000000</td>\n",
       "      <td>100.000000</td>\n",
       "      <td>27.740000</td>\n",
       "    </tr>\n",
       "  </tbody>\n",
       "</table>\n",
       "</div>"
      ],
      "text/plain": [
       "             medv          zn       indus\n",
       "count  405.000000  405.000000  405.000000\n",
       "mean    22.653580   11.646914   11.023111\n",
       "std      9.142774   23.673496    6.809215\n",
       "min      5.600000    0.000000    0.740000\n",
       "25%     17.100000    0.000000    5.130000\n",
       "50%     21.500000    0.000000    8.560000\n",
       "75%     25.300000   12.500000   18.100000\n",
       "max     50.000000  100.000000   27.740000"
      ]
     },
     "execution_count": 40,
     "metadata": {},
     "output_type": "execute_result"
    }
   ],
   "source": [
    "# логарифмируем зависимую переменную\n",
    "DF['log_medv'] = np.log(DF['medv'])\n",
    "\n",
    "# описательные статистики для непрерывных показателей\n",
    "DF[['medv', 'zn', 'indus']].describe()"
   ]
  },
  {
   "cell_type": "markdown",
   "id": "ae236ee5",
   "metadata": {},
   "source": [
    "Проведём формальные тесты на нормальность.  "
   ]
  },
  {
   "cell_type": "code",
   "execution_count": 41,
   "id": "c9d587ca",
   "metadata": {},
   "outputs": [
    {
     "name": "stdout",
     "output_type": "stream",
     "text": [
      "medv Statistics=0.92, p=0.0000\n",
      "Распределение не нормально (H0 отклоняется)\n",
      "\n"
     ]
    }
   ],
   "source": [
    "# тестируем на нормальность\n",
    "for col in ['medv']:\n",
    "    stat, p = shapiro(DF[col])\n",
    "    print(col, 'Statistics=%.2f, p=%.4f' % (stat, p))\n",
    "    # интерпретация\n",
    "    alpha = 0.05\n",
    "    if p > alpha:\n",
    "        print('Распределение нормально (H0 не отклоняется)\\n')\n",
    "    else:\n",
    "        print('Распределение не нормально (H0 отклоняется)\\n')"
   ]
  },
  {
   "cell_type": "markdown",
   "id": "8a3643a2",
   "metadata": {},
   "source": [
    "Логарифмирование меняет взаимосвязи между переменными.   "
   ]
  },
  {
   "cell_type": "code",
   "execution_count": 43,
   "id": "ca9e705f",
   "metadata": {},
   "outputs": [
    {
     "data": {
      "image/png": "[encoded data removed]",
      "text/plain": [
       "<Figure size 609.125x540 with 12 Axes>"
      ]
     },
     "metadata": {},
     "output_type": "display_data"
    }
   ],
   "source": [
    "# матричный график разброса с цветом по smokerYes\n",
    "sns.pairplot(DF[['log_medv', 'zn', 'indus', 'tax_over_400']], hue='tax_over_400')\n",
    "plt.show()"
   ]
  },
  {
   "cell_type": "code",
   "execution_count": 44,
   "id": "789776bc",
   "metadata": {},
   "outputs": [
    {
     "data": {
      "text/html": [
       "<style  type=\"text/css\" >\n",
       "#T_cf85a_row0_col0,#T_cf85a_row1_col1,#T_cf85a_row2_col2{\n",
       "            background-color:  #b40426;\n",
       "            color:  #f1f1f1;\n",
       "        }#T_cf85a_row0_col1{\n",
       "            background-color:  #d9dce1;\n",
       "            color:  #000000;\n",
       "        }#T_cf85a_row0_col2{\n",
       "            background-color:  #8db0fe;\n",
       "            color:  #000000;\n",
       "        }#T_cf85a_row1_col0{\n",
       "            background-color:  #a2c1ff;\n",
       "            color:  #000000;\n",
       "        }#T_cf85a_row1_col2,#T_cf85a_row2_col0,#T_cf85a_row2_col1{\n",
       "            background-color:  #3b4cc0;\n",
       "            color:  #f1f1f1;\n",
       "        }</style><table id=\"T_cf85a_\" ><thead>    <tr>        <th class=\"blank level0\" ></th>        <th class=\"col_heading level0 col0\" >log_medv</th>        <th class=\"col_heading level0 col1\" >zn</th>        <th class=\"col_heading level0 col2\" >indus</th>    </tr></thead><tbody>\n",
       "                <tr>\n",
       "                        <th id=\"T_cf85a_level0_row0\" class=\"row_heading level0 row0\" >log_medv</th>\n",
       "                        <td id=\"T_cf85a_row0_col0\" class=\"data row0 col0\" >1.00</td>\n",
       "                        <td id=\"T_cf85a_row0_col1\" class=\"data row0 col1\" >0.19</td>\n",
       "                        <td id=\"T_cf85a_row0_col2\" class=\"data row0 col2\" >-0.17</td>\n",
       "            </tr>\n",
       "            <tr>\n",
       "                        <th id=\"T_cf85a_level0_row1\" class=\"row_heading level0 row1\" >zn</th>\n",
       "                        <td id=\"T_cf85a_row1_col0\" class=\"data row1 col0\" >0.19</td>\n",
       "                        <td id=\"T_cf85a_row1_col1\" class=\"data row1 col1\" >1.00</td>\n",
       "                        <td id=\"T_cf85a_row1_col2\" class=\"data row1 col2\" >-0.57</td>\n",
       "            </tr>\n",
       "            <tr>\n",
       "                        <th id=\"T_cf85a_level0_row2\" class=\"row_heading level0 row2\" >indus</th>\n",
       "                        <td id=\"T_cf85a_row2_col0\" class=\"data row2 col0\" >-0.17</td>\n",
       "                        <td id=\"T_cf85a_row2_col1\" class=\"data row2 col1\" >-0.57</td>\n",
       "                        <td id=\"T_cf85a_row2_col2\" class=\"data row2 col2\" >1.00</td>\n",
       "            </tr>\n",
       "    </tbody></table>"
      ],
      "text/plain": [
       "<pandas.io.formats.style.Styler at 0x7fbbaf4b09d0>"
      ]
     },
     "execution_count": 44,
     "metadata": {},
     "output_type": "execute_result"
    }
   ],
   "source": [
    "# корреляционная матрица по классу налог >400\n",
    "corr_mat = DF.loc[DF['tax_over_400'] == 1][['log_medv', 'zn', 'indus']].corr()\n",
    "corr_mat.style.background_gradient(cmap='coolwarm').set_precision(2)"
   ]
  },
  {
   "cell_type": "code",
   "execution_count": 45,
   "id": "62da4c18",
   "metadata": {},
   "outputs": [
    {
     "data": {
      "text/html": [
       "<style  type=\"text/css\" >\n",
       "#T_deaf6_row0_col0,#T_deaf6_row1_col1,#T_deaf6_row2_col2{\n",
       "            background-color:  #b40426;\n",
       "            color:  #f1f1f1;\n",
       "        }#T_deaf6_row0_col1{\n",
       "            background-color:  #e3d9d3;\n",
       "            color:  #000000;\n",
       "        }#T_deaf6_row0_col2{\n",
       "            background-color:  #4961d2;\n",
       "            color:  #f1f1f1;\n",
       "        }#T_deaf6_row1_col0{\n",
       "            background-color:  #dddcdc;\n",
       "            color:  #000000;\n",
       "        }#T_deaf6_row1_col2,#T_deaf6_row2_col0,#T_deaf6_row2_col1{\n",
       "            background-color:  #3b4cc0;\n",
       "            color:  #f1f1f1;\n",
       "        }</style><table id=\"T_deaf6_\" ><thead>    <tr>        <th class=\"blank level0\" ></th>        <th class=\"col_heading level0 col0\" >log_medv</th>        <th class=\"col_heading level0 col1\" >zn</th>        <th class=\"col_heading level0 col2\" >indus</th>    </tr></thead><tbody>\n",
       "                <tr>\n",
       "                        <th id=\"T_deaf6_level0_row0\" class=\"row_heading level0 row0\" >log_medv</th>\n",
       "                        <td id=\"T_deaf6_row0_col0\" class=\"data row0 col0\" >1.00</td>\n",
       "                        <td id=\"T_deaf6_row0_col1\" class=\"data row0 col1\" >0.31</td>\n",
       "                        <td id=\"T_deaf6_row0_col2\" class=\"data row0 col2\" >-0.39</td>\n",
       "            </tr>\n",
       "            <tr>\n",
       "                        <th id=\"T_deaf6_level0_row1\" class=\"row_heading level0 row1\" >zn</th>\n",
       "                        <td id=\"T_deaf6_row1_col0\" class=\"data row1 col0\" >0.31</td>\n",
       "                        <td id=\"T_deaf6_row1_col1\" class=\"data row1 col1\" >1.00</td>\n",
       "                        <td id=\"T_deaf6_row1_col2\" class=\"data row1 col2\" >-0.46</td>\n",
       "            </tr>\n",
       "            <tr>\n",
       "                        <th id=\"T_deaf6_level0_row2\" class=\"row_heading level0 row2\" >indus</th>\n",
       "                        <td id=\"T_deaf6_row2_col0\" class=\"data row2 col0\" >-0.39</td>\n",
       "                        <td id=\"T_deaf6_row2_col1\" class=\"data row2 col1\" >-0.46</td>\n",
       "                        <td id=\"T_deaf6_row2_col2\" class=\"data row2 col2\" >1.00</td>\n",
       "            </tr>\n",
       "    </tbody></table>"
      ],
      "text/plain": [
       "<pandas.io.formats.style.Styler at 0x7fbbaf5b9910>"
      ]
     },
     "execution_count": 45,
     "metadata": {},
     "output_type": "execute_result"
    }
   ],
   "source": [
    "# корреляционная матрица по классу налог <400\n",
    "corr_mat = DF.loc[DF['tax_over_400'] == 0][['log_medv', 'zn', 'indus']].corr()\n",
    "corr_mat.style.background_gradient(cmap='coolwarm').set_precision(2)"
   ]
  },
  {
   "cell_type": "markdown",
   "id": "cbaad3c7",
   "metadata": {},
   "source": [
    "## Вывод по логарифмированию:\n",
    "Тест Шапиро показывает, что лог переменная также ненормально, к тому же график функции плотности выглядит также как и у не лог переменной. Матрицы корреляций меняются незначительно, следовательно переменную можно не логарифмировать. "
   ]
  },
  {
   "cell_type": "markdown",
   "id": "005016ac",
   "metadata": {},
   "source": [
    "---"
   ]
  },
  {
   "cell_type": "markdown",
   "id": "2291ad02",
   "metadata": {},
   "source": [
    "## Строим модели регрессии\n",
    "\n",
    "### Спецификация моделей  \n",
    "По итогам предварительного анализа данных можно предложить следующие спецификации линейных регрессионных моделей:  \n",
    "\n",
    "1. `fit_lm_1`: $\\hat{medv} = \\hat{\\beta_0} + \\hat{\\beta_1} \\cdot tax\\_over\\_400 + \\hat{\\beta_2} \\cdot zn + \\hat{\\beta_3} \\cdot indus$\n",
    "1. `fit_lm_2`: $\\hat{medv} = \\hat{\\beta_0} + \\hat{\\beta_1} \\cdot tax\\_over\\_400 + \\hat{\\beta_2} \\cdot zn \\cdot tax\\_over\\_400 + \\hat{\\beta_3} \\cdot indus$\n",
    "1. `fit_lm_3`: $\\hat{medv} = \\hat{\\beta_0} + \\hat{\\beta_1} \\cdot tax\\_over\\_400 + \\hat{\\beta_2} \\cdot indus \\cdot tax\\_over\\_400 + \\hat{\\beta_3} \\cdot zn$\n",
    "1. `fit_lm_4`: $\\hat{medv} = \\hat{\\beta_0} + \\hat{\\beta_1} \\cdot tax\\_over\\_400 + \\hat{\\beta_2} \\cdot indus \\cdot tax\\_over\\_400 + \\hat{\\beta_3} \\cdot zn \\cdot tax\\_over\\_400$\n",
    "\n",
    "1. `fit_lm_1_log`: то же, что `fit_lm_1`, но для зависимой $\\hat{log\\_medv}$  \n",
    "1. `fit_lm_2_log`: то же, что `fit_lm_2`, но для зависимой $\\hat{log\\_medv}$\n",
    "1. `fit_lm_3_log`: то же, что `fit_lm_3`, но для зависимой $\\hat{log\\_medv}$\n",
    "1. `fit_lm_4_log`: то же, что `fit_lm_4`, но для зависимой $\\hat{log\\_medv}$\n",
    "\n",
    "\n",
    "\n",
    "### Обучение и интерпретация  \n",
    "\n",
    "Создаём матрицы значений объясняющих переменных ( $X$ ) и вектора значений зависимой ( $y$ ) для всех моделей.  "
   ]
  },
  {
   "cell_type": "code",
   "execution_count": 55,
   "id": "26c6e4f4",
   "metadata": {},
   "outputs": [],
   "source": [
    "# данные для моделей 1, 5\n",
    "df1 = DF[['medv', 'tax_over_400', 'zn', 'indus']]\n",
    "\n",
    "# данные для моделей 2, 6\n",
    "df2 = DF[['medv', 'tax_over_400', 'zn', 'indus']]\n",
    "df2.loc[:, 'zn_tax_over_400'] = df2.loc[:, 'zn'] * df2.loc[:, 'tax_over_400']\n",
    "df2 = df2.drop(['zn'], axis=1)\n",
    "\n",
    "# данные для моделей 3, 7\n",
    "df3 = DF[['medv', 'tax_over_400', 'zn', 'indus']]\n",
    "df3.loc[:, 'indus_tax_over_400'] = df3.loc[:, 'indus'] * df3.loc[:, 'tax_over_400']\n",
    "df3 = df3.drop(['indus'], axis=1)\n",
    "\n",
    "# данные для моделей 4, 8\n",
    "df4 = DF[['medv', 'tax_over_400', 'zn', 'indus']]\n",
    "df4.loc[:, 'zn_tax_over_400'] = df4.loc[:, 'zn'] * df4.loc[:, 'tax_over_400']\n",
    "df4.loc[:, 'indus_tax_over_400'] = df4.loc[:, 'indus'] * df4.loc[:, 'tax_over_400']\n",
    "df4 = df4.drop(['indus', 'zn'], axis=1)\n",
    "\n",
    "# данные для моделей 9, 10\n",
    "df0 = DF.drop(['log_medv'], axis=1)"
   ]
  },
  {
   "cell_type": "code",
   "execution_count": 62,
   "id": "0c7652b1",
   "metadata": {},
   "outputs": [
    {
     "data": {
      "text/html": [
       "<div>\n",
       "<style scoped>\n",
       "    .dataframe tbody tr th:only-of-type {\n",
       "        vertical-align: middle;\n",
       "    }\n",
       "\n",
       "    .dataframe tbody tr th {\n",
       "        vertical-align: top;\n",
       "    }\n",
       "\n",
       "    .dataframe thead th {\n",
       "        text-align: right;\n",
       "    }\n",
       "</style>\n",
       "<table border=\"1\" class=\"dataframe\">\n",
       "  <thead>\n",
       "    <tr style=\"text-align: right;\">\n",
       "      <th></th>\n",
       "      <th>medv</th>\n",
       "      <th>tax_over_400</th>\n",
       "      <th>zn_tax_over_400</th>\n",
       "      <th>indus_tax_over_400</th>\n",
       "    </tr>\n",
       "  </thead>\n",
       "  <tbody>\n",
       "    <tr>\n",
       "      <th>307</th>\n",
       "      <td>28.2</td>\n",
       "      <td>0</td>\n",
       "      <td>0.0</td>\n",
       "      <td>0.0</td>\n",
       "    </tr>\n",
       "    <tr>\n",
       "      <th>343</th>\n",
       "      <td>23.9</td>\n",
       "      <td>0</td>\n",
       "      <td>0.0</td>\n",
       "      <td>0.0</td>\n",
       "    </tr>\n",
       "    <tr>\n",
       "      <th>47</th>\n",
       "      <td>16.6</td>\n",
       "      <td>0</td>\n",
       "      <td>0.0</td>\n",
       "      <td>0.0</td>\n",
       "    </tr>\n",
       "    <tr>\n",
       "      <th>67</th>\n",
       "      <td>22.0</td>\n",
       "      <td>0</td>\n",
       "      <td>0.0</td>\n",
       "      <td>0.0</td>\n",
       "    </tr>\n",
       "    <tr>\n",
       "      <th>362</th>\n",
       "      <td>20.8</td>\n",
       "      <td>1</td>\n",
       "      <td>0.0</td>\n",
       "      <td>18.1</td>\n",
       "    </tr>\n",
       "  </tbody>\n",
       "</table>\n",
       "</div>"
      ],
      "text/plain": [
       "     medv  tax_over_400  zn_tax_over_400  indus_tax_over_400\n",
       "307  28.2             0              0.0                 0.0\n",
       "343  23.9             0              0.0                 0.0\n",
       "47   16.6             0              0.0                 0.0\n",
       "67   22.0             0              0.0                 0.0\n",
       "362  20.8             1              0.0                18.1"
      ]
     },
     "execution_count": 62,
     "metadata": {},
     "output_type": "execute_result"
    }
   ],
   "source": [
    "# проверка результатов\n",
    "df4.head(5)"
   ]
  },
  {
   "cell_type": "markdown",
   "id": "32e29344",
   "metadata": {},
   "source": [
    "Построим модели от всех объясняющих переменных на всех наблюдениях `DF`, чтобы проинтерпретировать параметры. В модели для зависимой переменной `medv` интерпретация стандартная:  \n",
    "\n",
    "1. Константа – базовый уровень зависимой переменной, когда все объясняющие равны 0.  \n",
    "2. Коэффициент при объясняющей переменной $X$ показывает, на сколько своих единиц измерения изменится $Y$, если $X$ увеличится на одну свою единицу измерения.  "
   ]
  },
  {
   "cell_type": "code",
   "execution_count": 65,
   "id": "530bd63c",
   "metadata": {},
   "outputs": [
    {
     "name": "stdout",
     "output_type": "stream",
     "text": [
      "модель fit_lm_0:\n",
      " константа  [27.404] \n",
      " объясняющие  ['zn', 'indus', 'tax_over_400'] \n",
      " коэффициенты  [[ 0.055 -0.407 -2.268]]\n"
     ]
    }
   ],
   "source": [
    "lm = skl_lm.LinearRegression()\n",
    "\n",
    "# модель со всеми объясняющими, y\n",
    "X = df0.drop(['medv'], axis=1)\n",
    "y = df0.medv.values.reshape(-1, 1)\n",
    "fit_lm_0 = lm.fit(X, y)\n",
    "print('модель fit_lm_0:\\n', \n",
    "      'константа ', np.around(fit_lm_0.intercept_, 3),\n",
    "      '\\n объясняющие ', list(X.columns.values),\n",
    "      '\\n коэффициенты ', np.around(fit_lm_0.coef_, 3))"
   ]
  },
  {
   "cell_type": "code",
   "execution_count": 66,
   "id": "00a1f48f",
   "metadata": {},
   "outputs": [
    {
     "data": {
      "text/plain": [
       "array([7.95189075])"
      ]
     },
     "execution_count": 66,
     "metadata": {},
     "output_type": "execute_result"
    }
   ],
   "source": [
    "# оценим MSE на обучающей\n",
    "#  прогнозы\n",
    "y_pred = fit_lm_0.predict(X)\n",
    "MSE = sum((y - y_pred.reshape(-1, 1))**2) / len(y)\n",
    "np.sqrt(MSE)"
   ]
  },
  {
   "cell_type": "markdown",
   "id": "5323fd43",
   "metadata": {},
   "source": [
    "С интерпретацией модели на логарифме $Y$ дела обстоят сложнее:  \n",
    "1. Константу сначала надо экспоненциировать, далее интерпретировать как для обычной модели регрессии.  \n",
    "1. Коэффициент при $X$ нужно экспоненциировать, затем вычесть из получившегося числа 1, затем умножить на 100. Результат показывает, на сколько процентов изменится (увеличится, если коэффициент положительный, и уменьшится, если отрицательный) зависимая переменная, если $X$ увеличится на одну свою единицу измерения.  "
   ]
  },
  {
   "cell_type": "code",
   "execution_count": 67,
   "id": "a87419f1",
   "metadata": {},
   "outputs": [
    {
     "name": "stdout",
     "output_type": "stream",
     "text": [
      "модель fit_lm_0_log:\n",
      " константа  [3.282] \n",
      " объясняющие  ['zn', 'indus', 'tax_over_400'] \n",
      " коэффициенты  [[ 0.002 -0.018 -0.18 ]]\n"
     ]
    }
   ],
   "source": [
    "# модель со всеми объясняющими, y_log\n",
    "X = df0.drop(['medv'], axis=1)\n",
    "y = np.log(df0.medv).values.reshape(-1, 1)\n",
    "fit_lm_0_log = lm.fit(X, y)\n",
    "print('модель fit_lm_0_log:\\n', \n",
    "      'константа ', np.around(fit_lm_0_log.intercept_, 3),\n",
    "      '\\n объясняющие ', list(X.columns.values),\n",
    "      '\\n коэффициенты ', np.around(fit_lm_0_log.coef_, 3))"
   ]
  },
  {
   "cell_type": "code",
   "execution_count": 69,
   "id": "5e800d8c",
   "metadata": {},
   "outputs": [
    {
     "data": {
      "text/plain": [
       "array([[  0.2,  -1.7, -16.5]])"
      ]
     },
     "execution_count": 69,
     "metadata": {},
     "output_type": "execute_result"
    }
   ],
   "source": [
    "# пересчёт коэффициентов для их интерпретации\n",
    "np.around((np.exp(fit_lm_0_log.coef_) - 1) * 100, 1)"
   ]
  },
  {
   "cell_type": "code",
   "execution_count": 70,
   "id": "33656c61",
   "metadata": {},
   "outputs": [
    {
     "data": {
      "text/plain": [
       "array([8.02104453])"
      ]
     },
     "execution_count": 70,
     "metadata": {},
     "output_type": "execute_result"
    }
   ],
   "source": [
    "# оценим MSE на обучающей\n",
    "#  прогнозы\n",
    "y_pred = fit_lm_0_log.predict(X)\n",
    "MSE_log = sum((np.exp(y) - np.exp(y_pred).reshape(-1, 1))**2) / len(y)\n",
    "np.sqrt(MSE_log)"
   ]
  },
  {
   "cell_type": "code",
   "execution_count": 73,
   "id": "88b9515f",
   "metadata": {},
   "outputs": [
    {
     "name": "stdout",
     "output_type": "stream",
     "text": [
      "MSE_train модели для medv меньше MSE_train модели для log(medv) в  [1.017] раз\n"
     ]
    }
   ],
   "source": [
    "print('MSE_train модели для medv меньше MSE_train',\n",
    "     'модели для log(medv) в ', np.around(MSE_log / MSE, 3), 'раз')"
   ]
  },
  {
   "cell_type": "markdown",
   "id": "ff9c277b",
   "metadata": {},
   "source": [
    "### Оценка точности\n",
    "\n",
    "#### LOOCV  \n",
    "\n",
    "Сделаем перекрёстную проверку точности моделей по одному наблюдению.  "
   ]
  },
  {
   "cell_type": "code",
   "execution_count": 74,
   "id": "856469ac",
   "metadata": {},
   "outputs": [
    {
     "name": "stdout",
     "output_type": "stream",
     "text": [
      "Расчёты методом LOOCV заняли 6.66 секунд\n"
     ]
    }
   ],
   "source": [
    "# LeaveOneOut CV\n",
    "loo = LeaveOneOut()\n",
    "\n",
    "# модели для y\n",
    "scores = list()\n",
    "# таймер\n",
    "tic = time.perf_counter()\n",
    "for df in [df0, df1, df2, df3, df4] :\n",
    "    loo.get_n_splits(df)\n",
    "    X = df.drop(['medv'], axis=1)\n",
    "    y = df.medv\n",
    "    score = cross_val_score(lm, X, y, cv=loo,\n",
    "                           scoring='neg_mean_squared_error').mean()    \n",
    "    scores.append(score)\n",
    "\n",
    "# таймер\n",
    "toc = time.perf_counter()\n",
    "print(f\"Расчёты методом LOOCV заняли {toc - tic:0.2f} секунд\")"
   ]
  },
  {
   "cell_type": "code",
   "execution_count": 75,
   "id": "f1ba4a37",
   "metadata": {},
   "outputs": [
    {
     "data": {
      "text/plain": [
       "(405, 4)"
      ]
     },
     "execution_count": 75,
     "metadata": {},
     "output_type": "execute_result"
    }
   ],
   "source": [
    "df0.shape"
   ]
  },
  {
   "cell_type": "code",
   "execution_count": 76,
   "id": "14ec4244",
   "metadata": {},
   "outputs": [
    {
     "name": "stdout",
     "output_type": "stream",
     "text": [
      "Расчёты методом LOOCV заняли 7.06 секунд\n"
     ]
    }
   ],
   "source": [
    "# модели для y_log\n",
    "scores_log = list()\n",
    "# таймер\n",
    "tic = time.perf_counter()\n",
    "for df in [df0, df1, df2, df3, df4] :\n",
    "    loo.get_n_splits(df)\n",
    "    X = df.drop(['medv'], axis=1)\n",
    "    y = np.log(df.medv)\n",
    "    score = cross_val_score(lm, X, y, cv=loo, n_jobs=1,\n",
    "                            scoring='neg_mean_squared_error').mean()\n",
    "    scores_log.append(score)\n",
    "\n",
    "# таймер\n",
    "toc = time.perf_counter()\n",
    "print(f\"Расчёты методом LOOCV заняли {toc - tic:0.2f} секунд\")"
   ]
  },
  {
   "cell_type": "markdown",
   "id": "043d8f7f",
   "metadata": {},
   "source": [
    "Сравним ошибки для моделей на исходных значениях `medv` с ошибками моделей на логарифме.  "
   ]
  },
  {
   "cell_type": "code",
   "execution_count": 78,
   "id": "4760ac9c",
   "metadata": {},
   "outputs": [
    {
     "data": {
      "text/plain": [
       "[64.36, 64.36, 65.45, 66.55, 69.5]"
      ]
     },
     "execution_count": 78,
     "metadata": {},
     "output_type": "execute_result"
    }
   ],
   "source": [
    "[np.around(-x, 2) for x in scores]"
   ]
  },
  {
   "cell_type": "code",
   "execution_count": 79,
   "id": "f03231f8",
   "metadata": {},
   "outputs": [
    {
     "data": {
      "text/plain": [
       "[0.114, 0.114, 0.115, 0.117, 0.122]"
      ]
     },
     "execution_count": 79,
     "metadata": {},
     "output_type": "execute_result"
    }
   ],
   "source": [
    "[np.around(-x, 3) for x in scores_log]"
   ]
  },
  {
   "cell_type": "markdown",
   "id": "5e8a2632",
   "metadata": {},
   "source": [
    "Определим самые точные модели отдельно на `medv` и на `log_medv`.  "
   ]
  },
  {
   "cell_type": "code",
   "execution_count": 83,
   "id": "42809c46",
   "metadata": {},
   "outputs": [
    {
     "name": "stdout",
     "output_type": "stream",
     "text": [
      "Наименьшая ошибка на тестовой с LOOCV у модели fit_lm_0 :\n",
      "MSE_loocv = 64.362\n"
     ]
    }
   ],
   "source": [
    "# самая точная на medv\n",
    "fits = ['fit_lm_0', 'fit_lm_1', 'fit_lm_2', 'fit_lm_3', 'fit_lm_4']\n",
    "print('Наименьшая ошибка на тестовой с LOOCV у модели',\n",
    "      fits[scores.index(max(scores))], \n",
    "      ':\\nMSE_loocv =', np.around(-max(scores), 3))"
   ]
  },
  {
   "cell_type": "code",
   "execution_count": 82,
   "id": "b7ddcaad",
   "metadata": {},
   "outputs": [
    {
     "name": "stdout",
     "output_type": "stream",
     "text": [
      "Наименьшая ошибка на тестовой с LOOCV у модели fit_lm_0_log :\n",
      "MSE_loocv = 0.114\n"
     ]
    }
   ],
   "source": [
    "# самая точная на log(medv)\n",
    "fits = ['fit_lm_0_log', 'fit_lm_1_log', 'fit_lm_2_log', \n",
    "        'fit_lm_3_log', 'fit_lm_4_log']\n",
    "print('Наименьшая ошибка на тестовой с LOOCV у модели',\n",
    "      fits[scores_log.index(max(scores_log))], \n",
    "      ':\\nMSE_loocv =', np.around(-max(scores_log), 3))"
   ]
  },
  {
   "cell_type": "markdown",
   "id": "ca3670f2",
   "metadata": {},
   "source": [
    "#### Перекрёстная проверка по блокам    \n",
    "\n",
    "Теоретически этот метод менее затратен, чем LOOCV. Проверим на наших моделях.   "
   ]
  },
  {
   "cell_type": "code",
   "execution_count": 84,
   "id": "bb2d9585",
   "metadata": {},
   "outputs": [
    {
     "name": "stdout",
     "output_type": "stream",
     "text": [
      "Расчёты методом CV по 10 блокам заняли 0.23 секунд\n"
     ]
    }
   ],
   "source": [
    "# Перекрёстная проверка по 10 блокам\n",
    "folds = 10\n",
    "\n",
    "# ядра для разбиений перекрёстной проверкой\n",
    "r_state = np.arange(my_seed, my_seed + 9)\n",
    "\n",
    "# модели для y\n",
    "scores = list()\n",
    "# таймер\n",
    "tic = time.perf_counter()\n",
    "i = 0\n",
    "for df in [df0, df1, df2, df3, df4] :\n",
    "    X = df.drop(['medv'], axis=1)\n",
    "    y = df.medv\n",
    "    kf_10 = KFold(n_splits=folds, random_state=r_state[i],\n",
    "                 shuffle=True)\n",
    "    score = cross_val_score(lm, X, y, cv=kf_10,\n",
    "                            scoring='neg_mean_squared_error').mean()\n",
    "    scores.append(score)\n",
    "    i+=1\n",
    "\n",
    "# таймер\n",
    "toc = time.perf_counter()\n",
    "print(f\"Расчёты методом CV по 10 блокам заняли {toc - tic:0.2f} секунд\")"
   ]
  },
  {
   "cell_type": "code",
   "execution_count": 85,
   "id": "121dd523",
   "metadata": {},
   "outputs": [
    {
     "name": "stdout",
     "output_type": "stream",
     "text": [
      "Расчёты методом CV по 10 блокам заняли 0.22 секунд\n"
     ]
    }
   ],
   "source": [
    "# Перекрёстная проверка по 10 блокам\n",
    "folds = 10\n",
    "\n",
    "# ядра для разбиений перекрёстной проверкой\n",
    "r_state = np.arange(my_seed, my_seed + 9)\n",
    "\n",
    "# модели для y\n",
    "scores_log = list()\n",
    "# таймер\n",
    "tic = time.perf_counter()\n",
    "i = 0\n",
    "for df in [df0, df1, df2, df3, df4] :\n",
    "    X = df.drop(['medv'], axis=1)\n",
    "    y = np.log(df.medv)\n",
    "    kf_10 = KFold(n_splits=folds, random_state=r_state[i],\n",
    "                 shuffle=True)\n",
    "    score = cross_val_score(lm, X, y, cv=kf_10,\n",
    "                            scoring='neg_mean_squared_error').mean()\n",
    "    scores_log.append(score)\n",
    "    i+=1\n",
    "\n",
    "# таймер\n",
    "toc = time.perf_counter()\n",
    "print(f\"Расчёты методом CV по 10 блокам заняли {toc - tic:0.2f} секунд\")"
   ]
  },
  {
   "cell_type": "code",
   "execution_count": 88,
   "id": "9f950766",
   "metadata": {},
   "outputs": [
    {
     "name": "stdout",
     "output_type": "stream",
     "text": [
      "Наименьшая ошибка на тестовой с k-fold10 у модели fit_lm_0 :\n",
      "MSE_kf10 = 64.446\n"
     ]
    }
   ],
   "source": [
    "# самая точная на medv\n",
    "fits = ['fit_lm_0', 'fit_lm_1', 'fit_lm_2', 'fit_lm_3', 'fit_lm_4']\n",
    "print('Наименьшая ошибка на тестовой с k-fold10 у модели',\n",
    "      fits[scores.index(max(scores))], \n",
    "      ':\\nMSE_kf10 =', np.around(-max(scores), 3))"
   ]
  },
  {
   "cell_type": "code",
   "execution_count": 89,
   "id": "19ce9627",
   "metadata": {},
   "outputs": [
    {
     "name": "stdout",
     "output_type": "stream",
     "text": [
      "Наименьшая ошибка на тестовой с k-fold10 у модели fit_lm_0_log :\n",
      "MSE_kf10 = 0.114\n"
     ]
    }
   ],
   "source": [
    "# самая точная на log(medv)\n",
    "fits = ['fit_lm_0_log', 'fit_lm_1_log', 'fit_lm_2_log', \n",
    "        'fit_lm_3_log', 'fit_lm_4_log']\n",
    "print('Наименьшая ошибка на тестовой с k-fold10 у модели',\n",
    "      fits[scores_log.index(max(scores_log))], \n",
    "      ':\\nMSE_kf10 =', np.around(-max(scores_log), 3))"
   ]
  },
  {
   "cell_type": "markdown",
   "id": "d42eba63",
   "metadata": {},
   "source": [
    "Можно убедиться, что оценка MSE методом перекрёстной проверки по 10 блокам даёт результаты, практически идентичные методу LOOCV. При этом скорость у первого метода гораздо выше."
   ]
  },
  {
   "cell_type": "markdown",
   "id": "185d5d22",
   "metadata": {},
   "source": [
    "Самой точной среди моделей для `medv` оказалась `fit_lm_0`, а среди моделей для `log_medv` – `fit_lm_0_log`. Оценим точность прогноза по этим моделям на отложенные наблюдения.   "
   ]
  },
  {
   "cell_type": "code",
   "execution_count": 97,
   "id": "35410a9f",
   "metadata": {},
   "outputs": [
    {
     "name": "stdout",
     "output_type": "stream",
     "text": [
      "MSE модели fit_lm_0 на отложенных наблюдениях = 64.34\n"
     ]
    }
   ],
   "source": [
    "# прогноз по fit_lm_0\n",
    "# модель\n",
    "X = df0.drop(['medv'], axis=1)\n",
    "y = df0.medv.values.reshape(-1, 1)\n",
    "fit_lm_0 = lm.fit(X, y)\n",
    "\n",
    "#  значения y на отложенных наблюдениях\n",
    "y = DF_predict[['medv']].values.reshape(-1, 1)\n",
    "#  матрица объясняющих на отложенных наблюдениях\n",
    "X = DF_predict.drop(['medv'], axis=1)\n",
    "\n",
    "#  прогнозы\n",
    "y_pred = fit_lm_0.predict(X)\n",
    "\n",
    "# ошибка\n",
    "MSE = sum((np.exp(y) - np.exp(y_pred).reshape(-1, 1))**2) / len(y)\n",
    "print('MSE модели fit_lm_0 на отложенных наблюдениях = %.2f' % MSE_log)"
   ]
  },
  {
   "cell_type": "code",
   "execution_count": 99,
   "id": "f714e587",
   "metadata": {},
   "outputs": [
    {
     "name": "stdout",
     "output_type": "stream",
     "text": [
      "MSE модели fit_lm_0_log на отложенных наблюдениях = 62.18\n"
     ]
    }
   ],
   "source": [
    "# прогноз по fit_lm_log_0\n",
    "# модель\n",
    "X = df0.drop(['medv'], axis=1)\n",
    "y = np.log(df0.medv).values.reshape(-1, 1)\n",
    "fit_lm_0_log = lm.fit(X, y)\n",
    "\n",
    "#  значения y на отложенных наблюдениях\n",
    "y = np.log(DF_predict[['medv']].values.reshape(-1, 1))\n",
    "#  матрица объясняющих на отложенных наблюдениях\n",
    "X = DF_predict.drop(['medv'], axis=1)\n",
    "\n",
    "#  прогнозы\n",
    "y_pred = fit_lm_0_log.predict(X)\n",
    "\n",
    "# ошибка\n",
    "MSE_log = sum((np.exp(y) - np.exp(y_pred).reshape(-1, 1))**2) / len(y)\n",
    "print('MSE модели fit_lm_0_log на отложенных наблюдениях = %.2f' % MSE_log)"
   ]
  },
  {
   "cell_type": "markdown",
   "id": "ea39ca0a",
   "metadata": {},
   "source": [
    "Очевидно, на выборке для прогноза точнее модель `fit_lm_0_log`:  \n",
    "$\\hat{medv\\_log} = \\hat{\\beta_0} + \\hat{\\beta_1} \\cdot tax\\_over\\_400 + \\hat{\\beta_2} \\cdot zn + \\hat{\\beta_3} \\cdot indus$"
   ]
  },
  {
   "cell_type": "code",
   "execution_count": 102,
   "id": "5b260d66",
   "metadata": {},
   "outputs": [
    {
     "name": "stdout",
     "output_type": "stream",
     "text": [
      "модель fit_lm_0_log:\n",
      " константа  [3.282] \n",
      " объясняющие  ['zn', 'indus', 'tax_over_400'] \n",
      " коэффициенты  [[ 0.002 -0.018 -0.18 ]]\n"
     ]
    }
   ],
   "source": [
    "X = df0.drop(['medv'], axis=1)\n",
    "y = np.log(df0.medv).values.reshape(-1, 1)\n",
    "fit_lm_0_log = lm.fit(X, y)\n",
    "\n",
    "print('модель fit_lm_0_log:\\n', \n",
    "      'константа ', np.around(fit_lm_0_log.intercept_, 3),\n",
    "      '\\n объясняющие ', list(df0.drop(['medv'], axis=1).columns.values),\n",
    "      '\\n коэффициенты ', np.around(fit_lm_0_log.coef_, 3))"
   ]
  }
 ],
 "metadata": {
  "kernelspec": {
   "display_name": "Python 3",
   "language": "python",
   "name": "python3"
  },
  "language_info": {
   "codemirror_mode": {
    "name": "ipython",
    "version": 3
   },
   "file_extension": ".py",
   "mimetype": "text/x-python",
   "name": "python",
   "nbconvert_exporter": "python",
   "pygments_lexer": "ipython3",
   "version": "3.8.8"
  }
 },
 "nbformat": 4,
 "nbformat_minor": 5
}
