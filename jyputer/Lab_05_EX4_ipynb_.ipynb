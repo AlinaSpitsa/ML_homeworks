{
  "nbformat": 4,
  "nbformat_minor": 5,
  "metadata": {
    "colab": {
      "name": "Lab-05_EX4.ipynb\"",
      "provenance": [],
      "collapsed_sections": [
        "af39298f"
      ]
    },
    "kernelspec": {
      "display_name": "Python 3",
      "language": "python",
      "name": "python3"
    },
    "language_info": {
      "codemirror_mode": {
        "name": "ipython",
        "version": 3
      },
      "file_extension": ".py",
      "mimetype": "text/x-python",
      "name": "python",
      "nbconvert_exporter": "python",
      "pygments_lexer": "ipython3",
      "version": "3.8.8"
    }
  },
  "cells": [
    {
      "cell_type": "markdown",
      "metadata": {
        "id": "6b8b1c8d"
      },
      "source": [
        "`Дисциплина: Методы и технологии машинного обучения`   \n",
        "`Уровень подготовки: бакалавриат`   \n",
        "`Направление подготовки: 01.03.02 Прикладная математика и информатика`   \n",
        "`Семестр: осень 2021/2022`"
      ],
      "id": "6b8b1c8d"
    },
    {
      "cell_type": "code",
      "metadata": {
        "colab": {
          "base_uri": "https://localhost:8080/",
          "height": 17
        },
        "id": "8c915500",
        "outputId": "29edeb5d-f935-4a13-a67c-135091b1ed50"
      },
      "source": [
        "# настройка ширины страницы блокнота .......................................\n",
        "from IPython.core.display import display, HTML\n",
        "display(HTML(\"<style>.container { width:80% !important; }</style>\"))\n",
        "\n",
        "# расширение watermark для вывода информации о версиях пакетов\n",
        "#  https://github.com/rasbt/watermark\n",
        "# установка: командная строка - pip install watermark\n",
        "# %load_ext watermark"
      ],
      "id": "8c915500",
      "execution_count": null,
      "outputs": [
        {
          "output_type": "display_data",
          "data": {
            "text/html": [
              "<style>.container { width:80% !important; }</style>"
            ],
            "text/plain": [
              "<IPython.core.display.HTML object>"
            ]
          },
          "metadata": {}
        }
      ]
    },
    {
      "cell_type": "markdown",
      "metadata": {
        "id": "1fc5c8ab"
      },
      "source": [
        "# Лабораторная работа №5: Методы, основанные на деревьях решений. Регрессионные деревья. Деревья классификации. Случайный лес. Бустинг.  \n",
        "\n",
        "В практических примерах ниже показано:   \n",
        "\n",
        "* как делать перекодировку признаков в номинальной и порядковой шкалах\n",
        "* как вырастить дерево и сделать обрезку его ветвей   \n",
        "* как настроить модель бэггинга   \n",
        "* как вырастить случайный лес  \n",
        "* как настроить модель бустинга на деревьях решений  \n",
        "* как подбирать настроечные параметры моделей методом сеточного поиска  \n",
        "\n",
        "Точность всех моделей оценивается методом перекрёстной проверки по 5 блокам.  \n",
        "\n",
        "*Модели*: дерево классификации, бэггинг, случайный лес, бустинг, дерево регрессии  \n",
        "*Данные*: `Wines` (источник: [репозиторий к книге С.Рашки Python и машинное обучение, глава 4](https://github.com/rasbt/python-machine-learning-book-3rd-edition/tree/master/ch04))\n",
        "\n",
        "# Вариант 1  Спица Алина\n",
        "БЭГГИНГ"
      ],
      "id": "1fc5c8ab"
    },
    {
      "cell_type": "markdown",
      "metadata": {
        "id": "61b9ab5d"
      },
      "source": [
        "# Указания к выполнению\n",
        "\n",
        "\n",
        "## Загружаем пакеты"
      ],
      "id": "61b9ab5d"
    },
    {
      "cell_type": "code",
      "metadata": {
        "id": "c8fa189c"
      },
      "source": [
        "# загрузка пакетов: инструменты --------------------------------------------\n",
        "#  работа с массивами\n",
        "import numpy as np\n",
        "#  фреймы данных\n",
        "import pandas as pd\n",
        "#  графики\n",
        "import matplotlib as mpl\n",
        "#  стили и шаблоны графиков на основе matplotlib\n",
        "import seaborn as sns\n",
        "# загрузка файлов по URL\n",
        "import urllib\n",
        "# проверка существования файла на диске\n",
        "from pathlib import Path\n",
        "# для форматирования результатов с помощью Markdown\n",
        "from IPython.display import Markdown, display\n",
        "# перекодировка категориальных переменных\n",
        "from sklearn.preprocessing import OrdinalEncoder, OneHotEncoder\n",
        "# хи-квадрат тест на независимость по таблице сопряжённости\n",
        "from scipy.stats import chi2_contingency\n",
        "#  для таймера\n",
        "import time\n",
        "\n",
        "# загрузка пакетов: данные -------------------------------------------------\n",
        "from sklearn import datasets\n",
        "\n",
        "# загрузка пакетов: модели -------------------------------------------------\n",
        "#  дерево классификации\n",
        "from sklearn.tree import DecisionTreeClassifier, export_text, plot_tree\n",
        "# перекрёстная проверка и метод проверочной выборки\n",
        "from sklearn.model_selection import cross_val_score, train_test_split\n",
        "# для перекрёстной проверки и сеточного поиска\n",
        "from sklearn.model_selection import KFold, GridSearchCV\n",
        "# бэггинг\n",
        "from sklearn.ensemble import BaggingClassifier\n",
        "# случайный лес\n",
        "from sklearn.ensemble import RandomForestClassifier\n",
        "# бустинг\n",
        "from sklearn.ensemble import GradientBoostingClassifier\n",
        "#  сводка по точности классификации\n",
        "from sklearn.metrics import classification_report"
      ],
      "id": "c8fa189c",
      "execution_count": null,
      "outputs": []
    },
    {
      "cell_type": "code",
      "metadata": {
        "id": "43a4a48e"
      },
      "source": [
        "# константы\n",
        "#  ядро для генератора случайных чисел\n",
        "my_seed = 1\n",
        "#  создаём псевдоним для короткого обращения к графикам\n",
        "plt = mpl.pyplot\n",
        "# настройка стиля и отображения графиков\n",
        "#  примеры стилей и шаблонов графиков: \n",
        "#  http://tonysyu.github.io/raw_content/matplotlib-style-gallery/gallery.html\n",
        "mpl.style.use('seaborn-whitegrid')\n",
        "sns.set_palette(\"Set2\")\n",
        "# раскомментируйте следующую строку, чтобы посмотреть палитру\n",
        "# sns.color_palette(\"Set2\")"
      ],
      "id": "43a4a48e",
      "execution_count": null,
      "outputs": []
    },
    {
      "cell_type": "code",
      "metadata": {
        "id": "907a2353"
      },
      "source": [
        "# функция форматирования результатов с использованием Markdown\n",
        "def printmd(string):\n",
        "    display(Markdown(string))\n",
        "    \n",
        "# функции для попарной конкатенации элементов двух списков\n",
        "concat_func_md = lambda x, y: '`' + str(x) + \"`:&ensp;&ensp;&ensp;&ensp;\" + str(y)\n",
        "concat_func = lambda x, y: str(x) + ' ' * 4 + str(y)\n",
        "\n",
        "\n",
        "# функция, которая строит график важности признаков в модели случайного леса\n",
        "#  источник: https://www.analyseup.com/learn-python-for-data-science/python-random-forest-feature-importance-plot.html\n",
        "def plot_feature_importance(importance, names, model_type) :\n",
        "    #Create arrays from feature importance and feature names\n",
        "    feature_importance = np.array(importance)\n",
        "    feature_names = np.array(names)\n",
        "\n",
        "    #Create a DataFrame using a Dictionary\n",
        "    data={'feature_names':feature_names,'feature_importance':feature_importance}\n",
        "    fi_df = pd.DataFrame(data)\n",
        "\n",
        "    #Sort the DataFrame in order decreasing feature importance\n",
        "    fi_df.sort_values(by=['feature_importance'], ascending=False,\n",
        "                      inplace=True)\n",
        "\n",
        "    #Define size of bar plot\n",
        "    plt.figure(figsize=(10,8))\n",
        "    #Plot Searborn bar chart\n",
        "    sns.barplot(x=fi_df['feature_importance'], y=fi_df['feature_names'])\n",
        "    #Add chart labels\n",
        "    plt.title('Важность признаков в модели: ' + model_type)\n",
        "    plt.xlabel('Важность признака')\n",
        "    plt.ylabel('')"
      ],
      "id": "907a2353",
      "execution_count": null,
      "outputs": []
    },
    {
      "cell_type": "markdown",
      "metadata": {
        "id": "87618f1b"
      },
      "source": [
        "## Загружаем данные\n",
        "\n",
        "Набор данных можно загрузить напрямую по ссылке: <https://raw.githubusercontent.com/aksyuk/MTML/main/Labs/data/in-vehicle-coupon-recommendation.csv>. Справочник к данным доступен по адресу: <https://github.com/aksyuk/MTML/blob/main/Labs/data/CodeBook_in-vehicle-coupon-recommendation.md>.    \n",
        "\n",
        "Загружаем данные во фрейм и выясняем их размерность. В таблице много строк, поэтому для экономии времени загрузку сделаем в два шага: сначала скачаем таблицу и сохраним в папку `'./data'`, затем прочитаем её во фрейм. Перед скачиванием проверим, нет ли уже такого файла в папке с данными.  "
      ],
      "id": "87618f1b"
    },
    {
      "cell_type": "code",
      "metadata": {
        "colab": {
          "base_uri": "https://localhost:8080/"
        },
        "id": "a7e42f2c",
        "outputId": "2a375d31-4ca8-4cff-baa3-0af61977a55d"
      },
      "source": [
        "\n",
        "fileURL = 'https://raw.githubusercontent.com/aksyuk/MTML/main/Labs/data/winequality-red_for_lab.csv'\n",
        "\n",
        "DF_raw = pd.read_csv(fileURL)\n",
        "\n",
        "# выясняем размерность фрейма\n",
        "print('Число строк и столбцов в наборе данных:\\n', DF_raw.shape)"
      ],
      "id": "a7e42f2c",
      "execution_count": null,
      "outputs": [
        {
          "output_type": "stream",
          "name": "stdout",
          "text": [
            "Число строк и столбцов в наборе данных:\n",
            " (1599, 13)\n"
          ]
        }
      ]
    },
    {
      "cell_type": "code",
      "metadata": {
        "id": "xsKMN9zhB6r3"
      },
      "source": [
        "DF_raw = DF_raw.drop([\"fixed_acidity\", \"volatile_acidity\", \"quality\"], axis = 1)"
      ],
      "id": "xsKMN9zhB6r3",
      "execution_count": null,
      "outputs": []
    },
    {
      "cell_type": "code",
      "metadata": {
        "colab": {
          "base_uri": "https://localhost:8080/"
        },
        "id": "07670649",
        "outputId": "af09aae1-870e-401d-b3cb-e8a26287d260"
      },
      "source": [
        "# типы столбцов\n",
        "DF_raw.dtypes"
      ],
      "id": "07670649",
      "execution_count": null,
      "outputs": [
        {
          "output_type": "execute_result",
          "data": {
            "text/plain": [
              "citric_acid             float64\n",
              "residual_sugar          float64\n",
              "chlorides               float64\n",
              "free_sulfur_dioxide     float64\n",
              "total_sulfur_dioxide    float64\n",
              "density                 float64\n",
              "pH                      float64\n",
              "sulphates               float64\n",
              "alcohol                 float64\n",
              "Y                         int64\n",
              "dtype: object"
            ]
          },
          "metadata": {},
          "execution_count": 61
        }
      ]
    },
    {
      "cell_type": "markdown",
      "metadata": {
        "id": "0fe68e45"
      },
      "source": [
        "Все ок, перекодировка не требуется."
      ],
      "id": "0fe68e45"
    },
    {
      "cell_type": "code",
      "metadata": {
        "colab": {
          "base_uri": "https://localhost:8080/",
          "height": 266
        },
        "id": "fca342e8",
        "outputId": "bdd455fd-0b27-4b06-b250-ce7a717201a9"
      },
      "source": [
        "# первые 7 строк столбцов типа int64\n",
        "DF_raw.loc[:, DF_raw.columns[DF_raw.dtypes == 'int64']].head(7)"
      ],
      "id": "fca342e8",
      "execution_count": null,
      "outputs": [
        {
          "output_type": "execute_result",
          "data": {
            "text/html": [
              "<div>\n",
              "<style scoped>\n",
              "    .dataframe tbody tr th:only-of-type {\n",
              "        vertical-align: middle;\n",
              "    }\n",
              "\n",
              "    .dataframe tbody tr th {\n",
              "        vertical-align: top;\n",
              "    }\n",
              "\n",
              "    .dataframe thead th {\n",
              "        text-align: right;\n",
              "    }\n",
              "</style>\n",
              "<table border=\"1\" class=\"dataframe\">\n",
              "  <thead>\n",
              "    <tr style=\"text-align: right;\">\n",
              "      <th></th>\n",
              "      <th>Y</th>\n",
              "    </tr>\n",
              "  </thead>\n",
              "  <tbody>\n",
              "    <tr>\n",
              "      <th>0</th>\n",
              "      <td>0</td>\n",
              "    </tr>\n",
              "    <tr>\n",
              "      <th>1</th>\n",
              "      <td>0</td>\n",
              "    </tr>\n",
              "    <tr>\n",
              "      <th>2</th>\n",
              "      <td>0</td>\n",
              "    </tr>\n",
              "    <tr>\n",
              "      <th>3</th>\n",
              "      <td>1</td>\n",
              "    </tr>\n",
              "    <tr>\n",
              "      <th>4</th>\n",
              "      <td>0</td>\n",
              "    </tr>\n",
              "    <tr>\n",
              "      <th>5</th>\n",
              "      <td>0</td>\n",
              "    </tr>\n",
              "    <tr>\n",
              "      <th>6</th>\n",
              "      <td>0</td>\n",
              "    </tr>\n",
              "  </tbody>\n",
              "</table>\n",
              "</div>"
            ],
            "text/plain": [
              "   Y\n",
              "0  0\n",
              "1  0\n",
              "2  0\n",
              "3  1\n",
              "4  0\n",
              "5  0\n",
              "6  0"
            ]
          },
          "metadata": {},
          "execution_count": 62
        }
      ]
    },
    {
      "cell_type": "markdown",
      "metadata": {
        "id": "5ce7ffd1"
      },
      "source": [
        "Отложим 15% наблюдений для прогноза.  "
      ],
      "id": "5ce7ffd1"
    },
    {
      "cell_type": "code",
      "metadata": {
        "id": "13f9300b"
      },
      "source": [
        "# наблюдения для моделирования\n",
        "DF = DF_raw.sample(frac=0.85, random_state=my_seed)\n",
        "# отложенные наблюдения\n",
        "DF_predict = DF_raw.drop(DF.index)"
      ],
      "id": "13f9300b",
      "execution_count": null,
      "outputs": []
    },
    {
      "cell_type": "code",
      "metadata": {
        "colab": {
          "base_uri": "https://localhost:8080/",
          "height": 204
        },
        "id": "Dbzz4XKICRd7",
        "outputId": "96bd900e-2c4c-439a-e994-9c39dd3d818f"
      },
      "source": [
        "DF.head(5)"
      ],
      "id": "Dbzz4XKICRd7",
      "execution_count": null,
      "outputs": [
        {
          "output_type": "execute_result",
          "data": {
            "text/html": [
              "<div>\n",
              "<style scoped>\n",
              "    .dataframe tbody tr th:only-of-type {\n",
              "        vertical-align: middle;\n",
              "    }\n",
              "\n",
              "    .dataframe tbody tr th {\n",
              "        vertical-align: top;\n",
              "    }\n",
              "\n",
              "    .dataframe thead th {\n",
              "        text-align: right;\n",
              "    }\n",
              "</style>\n",
              "<table border=\"1\" class=\"dataframe\">\n",
              "  <thead>\n",
              "    <tr style=\"text-align: right;\">\n",
              "      <th></th>\n",
              "      <th>citric_acid</th>\n",
              "      <th>residual_sugar</th>\n",
              "      <th>chlorides</th>\n",
              "      <th>free_sulfur_dioxide</th>\n",
              "      <th>total_sulfur_dioxide</th>\n",
              "      <th>density</th>\n",
              "      <th>pH</th>\n",
              "      <th>sulphates</th>\n",
              "      <th>alcohol</th>\n",
              "      <th>Y</th>\n",
              "    </tr>\n",
              "  </thead>\n",
              "  <tbody>\n",
              "    <tr>\n",
              "      <th>75</th>\n",
              "      <td>0.64</td>\n",
              "      <td>2.2</td>\n",
              "      <td>0.093</td>\n",
              "      <td>9.0</td>\n",
              "      <td>42.0</td>\n",
              "      <td>0.99860</td>\n",
              "      <td>3.54</td>\n",
              "      <td>0.66</td>\n",
              "      <td>10.5</td>\n",
              "      <td>0</td>\n",
              "    </tr>\n",
              "    <tr>\n",
              "      <th>1283</th>\n",
              "      <td>0.28</td>\n",
              "      <td>2.7</td>\n",
              "      <td>0.096</td>\n",
              "      <td>17.0</td>\n",
              "      <td>69.0</td>\n",
              "      <td>0.99734</td>\n",
              "      <td>3.26</td>\n",
              "      <td>0.63</td>\n",
              "      <td>10.2</td>\n",
              "      <td>1</td>\n",
              "    </tr>\n",
              "    <tr>\n",
              "      <th>408</th>\n",
              "      <td>0.58</td>\n",
              "      <td>3.7</td>\n",
              "      <td>0.174</td>\n",
              "      <td>6.0</td>\n",
              "      <td>16.0</td>\n",
              "      <td>0.99700</td>\n",
              "      <td>3.19</td>\n",
              "      <td>0.70</td>\n",
              "      <td>11.3</td>\n",
              "      <td>1</td>\n",
              "    </tr>\n",
              "    <tr>\n",
              "      <th>1281</th>\n",
              "      <td>0.20</td>\n",
              "      <td>1.9</td>\n",
              "      <td>0.077</td>\n",
              "      <td>28.0</td>\n",
              "      <td>54.0</td>\n",
              "      <td>0.99560</td>\n",
              "      <td>3.37</td>\n",
              "      <td>0.64</td>\n",
              "      <td>10.4</td>\n",
              "      <td>1</td>\n",
              "    </tr>\n",
              "    <tr>\n",
              "      <th>1118</th>\n",
              "      <td>0.12</td>\n",
              "      <td>2.1</td>\n",
              "      <td>0.065</td>\n",
              "      <td>14.0</td>\n",
              "      <td>24.0</td>\n",
              "      <td>0.99252</td>\n",
              "      <td>3.30</td>\n",
              "      <td>0.53</td>\n",
              "      <td>13.3</td>\n",
              "      <td>1</td>\n",
              "    </tr>\n",
              "  </tbody>\n",
              "</table>\n",
              "</div>"
            ],
            "text/plain": [
              "      citric_acid  residual_sugar  chlorides  ...  sulphates  alcohol  Y\n",
              "75           0.64             2.2      0.093  ...       0.66     10.5  0\n",
              "1283         0.28             2.7      0.096  ...       0.63     10.2  1\n",
              "408          0.58             3.7      0.174  ...       0.70     11.3  1\n",
              "1281         0.20             1.9      0.077  ...       0.64     10.4  1\n",
              "1118         0.12             2.1      0.065  ...       0.53     13.3  1\n",
              "\n",
              "[5 rows x 10 columns]"
            ]
          },
          "metadata": {},
          "execution_count": 64
        }
      ]
    },
    {
      "cell_type": "code",
      "metadata": {
        "colab": {
          "base_uri": "https://localhost:8080/",
          "height": 204
        },
        "id": "LTUe3LAECUoL",
        "outputId": "fb915eb9-5c08-4112-cd31-d7a541772beb"
      },
      "source": [
        "DF_predict.head(5)"
      ],
      "id": "LTUe3LAECUoL",
      "execution_count": null,
      "outputs": [
        {
          "output_type": "execute_result",
          "data": {
            "text/html": [
              "<div>\n",
              "<style scoped>\n",
              "    .dataframe tbody tr th:only-of-type {\n",
              "        vertical-align: middle;\n",
              "    }\n",
              "\n",
              "    .dataframe tbody tr th {\n",
              "        vertical-align: top;\n",
              "    }\n",
              "\n",
              "    .dataframe thead th {\n",
              "        text-align: right;\n",
              "    }\n",
              "</style>\n",
              "<table border=\"1\" class=\"dataframe\">\n",
              "  <thead>\n",
              "    <tr style=\"text-align: right;\">\n",
              "      <th></th>\n",
              "      <th>citric_acid</th>\n",
              "      <th>residual_sugar</th>\n",
              "      <th>chlorides</th>\n",
              "      <th>free_sulfur_dioxide</th>\n",
              "      <th>total_sulfur_dioxide</th>\n",
              "      <th>density</th>\n",
              "      <th>pH</th>\n",
              "      <th>sulphates</th>\n",
              "      <th>alcohol</th>\n",
              "      <th>Y</th>\n",
              "    </tr>\n",
              "  </thead>\n",
              "  <tbody>\n",
              "    <tr>\n",
              "      <th>15</th>\n",
              "      <td>0.19</td>\n",
              "      <td>3.9</td>\n",
              "      <td>0.170</td>\n",
              "      <td>51.0</td>\n",
              "      <td>148.0</td>\n",
              "      <td>0.9986</td>\n",
              "      <td>3.17</td>\n",
              "      <td>0.93</td>\n",
              "      <td>9.2</td>\n",
              "      <td>0</td>\n",
              "    </tr>\n",
              "    <tr>\n",
              "      <th>20</th>\n",
              "      <td>0.48</td>\n",
              "      <td>1.8</td>\n",
              "      <td>0.077</td>\n",
              "      <td>29.0</td>\n",
              "      <td>60.0</td>\n",
              "      <td>0.9968</td>\n",
              "      <td>3.39</td>\n",
              "      <td>0.53</td>\n",
              "      <td>9.4</td>\n",
              "      <td>1</td>\n",
              "    </tr>\n",
              "    <tr>\n",
              "      <th>21</th>\n",
              "      <td>0.31</td>\n",
              "      <td>2.3</td>\n",
              "      <td>0.082</td>\n",
              "      <td>23.0</td>\n",
              "      <td>71.0</td>\n",
              "      <td>0.9982</td>\n",
              "      <td>3.52</td>\n",
              "      <td>0.65</td>\n",
              "      <td>9.7</td>\n",
              "      <td>0</td>\n",
              "    </tr>\n",
              "    <tr>\n",
              "      <th>24</th>\n",
              "      <td>0.14</td>\n",
              "      <td>2.4</td>\n",
              "      <td>0.085</td>\n",
              "      <td>21.0</td>\n",
              "      <td>40.0</td>\n",
              "      <td>0.9968</td>\n",
              "      <td>3.43</td>\n",
              "      <td>0.63</td>\n",
              "      <td>9.7</td>\n",
              "      <td>1</td>\n",
              "    </tr>\n",
              "    <tr>\n",
              "      <th>25</th>\n",
              "      <td>0.16</td>\n",
              "      <td>1.4</td>\n",
              "      <td>0.080</td>\n",
              "      <td>11.0</td>\n",
              "      <td>23.0</td>\n",
              "      <td>0.9955</td>\n",
              "      <td>3.34</td>\n",
              "      <td>0.56</td>\n",
              "      <td>9.3</td>\n",
              "      <td>0</td>\n",
              "    </tr>\n",
              "  </tbody>\n",
              "</table>\n",
              "</div>"
            ],
            "text/plain": [
              "    citric_acid  residual_sugar  chlorides  ...  sulphates  alcohol  Y\n",
              "15         0.19             3.9      0.170  ...       0.93      9.2  0\n",
              "20         0.48             1.8      0.077  ...       0.53      9.4  1\n",
              "21         0.31             2.3      0.082  ...       0.65      9.7  0\n",
              "24         0.14             2.4      0.085  ...       0.63      9.7  1\n",
              "25         0.16             1.4      0.080  ...       0.56      9.3  0\n",
              "\n",
              "[5 rows x 10 columns]"
            ]
          },
          "metadata": {},
          "execution_count": 65
        }
      ]
    },
    {
      "cell_type": "markdown",
      "metadata": {
        "id": "1635163a"
      },
      "source": [
        "# Предварительный анализ данных  \n",
        "\n",
        "## Описательные статистики  \n",
        "\n",
        "Стандартный подсчёт статистик с помощью фунции `describe()` бесполезен для категориальных столбцов, поэтому рассчитаем частоты категорий по каждому столбцу. Для вывода отчёта воспользуемся форматированием на Markdown.   "
      ],
      "id": "1635163a"
    },
    {
      "cell_type": "code",
      "metadata": {
        "id": "LSiIt87kmx6h"
      },
      "source": [
        "DF_int = DF_raw.loc[:, DF_raw.columns[DF_raw.dtypes == 'int64']].head(7)"
      ],
      "id": "LSiIt87kmx6h",
      "execution_count": null,
      "outputs": []
    },
    {
      "cell_type": "code",
      "metadata": {
        "colab": {
          "base_uri": "https://localhost:8080/",
          "height": 80
        },
        "id": "78108987",
        "outputId": "cb4f1f18-7d3a-49c4-f4aa-bc1b6bb732ba"
      },
      "source": [
        "# считаем частоты по столбцам, учитывая пропуски\n",
        "for col in DF_int.columns:\n",
        "    freq_col = DF[col].value_counts(dropna=False)\n",
        "    str_freqs = np.around(freq_col / sum(freq_col), 3).astype(str)\n",
        "    str_names = freq_col.index.values\n",
        "    # для вывода в html\n",
        "    printmd('**' + col + '**</br>' + \n",
        "            '</br>'.join(list(map(concat_func_md, str_names, str_freqs))))\n",
        "    # для сохранения в pdf\n",
        "    # print('\\n', col, '\\n', \n",
        "    #       '\\n'.join(list(map(concat_func, str_names, str_freqs))))"
      ],
      "id": "78108987",
      "execution_count": null,
      "outputs": [
        {
          "output_type": "display_data",
          "data": {
            "text/markdown": "**Y**</br>`1`:&ensp;&ensp;&ensp;&ensp;0.536</br>`0`:&ensp;&ensp;&ensp;&ensp;0.464",
            "text/plain": [
              "<IPython.core.display.Markdown object>"
            ]
          },
          "metadata": {}
        }
      ]
    },
    {
      "cell_type": "markdown",
      "metadata": {
        "id": "d4a540a2"
      },
      "source": [
        "Ещё раз оценим количество пропусков.  "
      ],
      "id": "d4a540a2"
    },
    {
      "cell_type": "code",
      "metadata": {
        "colab": {
          "base_uri": "https://localhost:8080/"
        },
        "id": "42a96cd9",
        "outputId": "86d5c995-c940-4f83-c160-f510f9b19d9d"
      },
      "source": [
        "# считаем пропуски в столбцах, выводим ненулевые значения\n",
        "nas = DF.isna().sum()\n",
        "nas = np.around(nas / DF.shape[0], 3)\n",
        "nas[nas > 0]"
      ],
      "id": "42a96cd9",
      "execution_count": null,
      "outputs": [
        {
          "output_type": "execute_result",
          "data": {
            "text/plain": [
              "Series([], dtype: float64)"
            ]
          },
          "metadata": {},
          "execution_count": 68
        }
      ]
    },
    {
      "cell_type": "markdown",
      "metadata": {
        "id": "b618a25b"
      },
      "source": [
        "Пропусков не обнаружено."
      ],
      "id": "b618a25b"
    },
    {
      "cell_type": "markdown",
      "metadata": {
        "id": "d3a48810"
      },
      "source": [
        "# Модель дерева  \n",
        "\n",
        "В этом разделе построим:  \n",
        "\n",
        "* дерево классификации  \n",
        "* дерево классификации с обрезкой ветвей  \n",
        "\n",
        "\n",
        "## Дерево на всех признаках    \n",
        "\n",
        "Построим модель и выведем изображение дерева в виде текста.  "
      ],
      "id": "d3a48810"
    },
    {
      "cell_type": "code",
      "metadata": {
        "colab": {
          "base_uri": "https://localhost:8080/"
        },
        "id": "688312d9",
        "outputId": "275a4650-8f8a-4878-b671-b3b2a081c35b"
      },
      "source": [
        "# выращиваем дерево на всех объясняющих\n",
        "X = DF.drop(['Y'], axis=1)\n",
        "y = DF['Y']\n",
        "\n",
        "# классификатор\n",
        "cls_one_tree = DecisionTreeClassifier(criterion='entropy',\n",
        "                                      random_state=my_seed)\n",
        "\n",
        "tree_full = cls_one_tree.fit(X, y)\n",
        "\n",
        "# выводим количество листьев (количество конечных узлов)\n",
        "tree_full.get_n_leaves()"
      ],
      "id": "688312d9",
      "execution_count": null,
      "outputs": [
        {
          "output_type": "execute_result",
          "data": {
            "text/plain": [
              "214"
            ]
          },
          "metadata": {},
          "execution_count": 69
        }
      ]
    },
    {
      "cell_type": "code",
      "metadata": {
        "colab": {
          "base_uri": "https://localhost:8080/"
        },
        "id": "cce2b6f3",
        "outputId": "b23da67e-3a33-4dcc-c129-5491d23150f9"
      },
      "source": [
        "# глубина дерева: количество узлов от корня до листа\n",
        "#  в самой длинной ветви\n",
        "tree_full.get_depth()"
      ],
      "id": "cce2b6f3",
      "execution_count": null,
      "outputs": [
        {
          "output_type": "execute_result",
          "data": {
            "text/plain": [
              "18"
            ]
          },
          "metadata": {},
          "execution_count": 70
        }
      ]
    },
    {
      "cell_type": "markdown",
      "metadata": {
        "id": "4fa61de0"
      },
      "source": [
        "Очевидно, дерево получилось слишком большое для отображения в текстовом формате. Графическая визуализация тоже не поможет в данном случае. Посчитаем показатели точности с перекрёстной проверкой.   "
      ],
      "id": "4fa61de0"
    },
    {
      "cell_type": "code",
      "metadata": {
        "colab": {
          "base_uri": "https://localhost:8080/"
        },
        "id": "a0127bc8",
        "outputId": "5f1b2beb-97a2-4b7f-9a11-b88205bb3c36"
      },
      "source": [
        "# будем сохранять точность моделей в один массив:\n",
        "score = list()\n",
        "score_models = list()\n",
        "\n",
        "# считаем точность с перекрёстной проверкой, показатель Acc\n",
        "cv = cross_val_score(estimator=cls_one_tree, X=X, y=y, cv=5,\n",
        "                     scoring='accuracy')\n",
        "\n",
        "# записываем точность\n",
        "score.append(np.around(np.mean(cv), 3))\n",
        "score_models.append('one_tree')\n",
        "\n",
        "print('Acc с перекрёстной проверкой',\n",
        "      '\\nдля модели', score_models[0], ':', score[0])"
      ],
      "id": "a0127bc8",
      "execution_count": null,
      "outputs": [
        {
          "output_type": "stream",
          "name": "stdout",
          "text": [
            "Acc с перекрёстной проверкой \n",
            "для модели one_tree : 0.724\n"
          ]
        }
      ]
    },
    {
      "cell_type": "markdown",
      "metadata": {
        "id": "pf0gpFpwqkPE"
      },
      "source": [
        "Точность получилась довольно хорошей."
      ],
      "id": "pf0gpFpwqkPE"
    },
    {
      "cell_type": "markdown",
      "metadata": {
        "id": "e66a2df5"
      },
      "source": [
        "## Дерево с обрезкой ветвей   \n",
        "\n",
        "Подберём оптимальное количество ветвей, которое максимизирует $Acc$, для экономии времени рассчитанный методом проверочной выборки.  "
      ],
      "id": "e66a2df5"
    },
    {
      "cell_type": "code",
      "metadata": {
        "colab": {
          "base_uri": "https://localhost:8080/"
        },
        "id": "2935464d",
        "outputId": "9a292d4f-306d-4e3f-ced1-36e68f221aab"
      },
      "source": [
        "# рассчитываем параметры alpha для эффективных вариантов обрезки ветвей\n",
        "path = cls_one_tree.cost_complexity_pruning_path(X, y)\n",
        "ccp_alphas, impurities = path.ccp_alphas, path.impurities\n",
        "print('Всего значений alpha:', len(ccp_alphas))\n",
        "print('Энтропия листьев для первых 5 значений alpha:', impurities[:5])"
      ],
      "id": "2935464d",
      "execution_count": null,
      "outputs": [
        {
          "output_type": "stream",
          "name": "stdout",
          "text": [
            "Всего значений alpha: 119\n",
            "Энтропия листьев для первых 5 значений alpha: [0.         0.00286986 0.00434153 0.0058132  0.00728487]\n"
          ]
        }
      ]
    },
    {
      "cell_type": "code",
      "metadata": {
        "colab": {
          "base_uri": "https://localhost:8080/",
          "height": 291
        },
        "id": "701c413e",
        "outputId": "ff251807-c627-4ba9-d35f-219ddc2fd5fb"
      },
      "source": [
        "# изображаем на графике\n",
        "plt.plot(ccp_alphas[:-1], impurities[:-1], marker=',', drawstyle=\"steps-post\")\n",
        "plt.xlabel(\"значение гиперпараметра alpha\")\n",
        "plt.ylabel(\"общая энтропия листьев дерева\")\n",
        "plt.title(\"Изменение показателя нечистоты узлов с ростом alpha\")\n",
        "plt.show()"
      ],
      "id": "701c413e",
      "execution_count": null,
      "outputs": [
        {
          "output_type": "display_data",
          "data": {
            "image/png": "[encoded data removed]",
            "text/plain": [
              "<Figure size 432x288 with 1 Axes>"
            ]
          },
          "metadata": {}
        }
      ]
    },
    {
      "cell_type": "code",
      "metadata": {
        "colab": {
          "base_uri": "https://localhost:8080/"
        },
        "id": "d3276234",
        "outputId": "d21e5aeb-ce5a-43cf-f6ac-18b76db3ed05"
      },
      "source": [
        "# обучающая и тестовая выборки, чтобы сэкономить время\n",
        "X_train, X_test, y_train, y_test = train_test_split(X, y, \n",
        "                                                    random_state=my_seed)\n",
        "\n",
        "# модели\n",
        "clfs = list()\n",
        "\n",
        "# таймер\n",
        "tic = time.perf_counter()\n",
        "# цикл по значениям alpha\n",
        "for ccp_alpha in ccp_alphas:\n",
        "    clf = DecisionTreeClassifier(random_state=my_seed, ccp_alpha=ccp_alpha)\n",
        "    clf.fit(X_train, y_train)\n",
        "    clfs.append(clf)\n",
        "\n",
        "# таймер\n",
        "toc = time.perf_counter()\n",
        "print(f\"Расчёты по обрезке дерева заняли {toc - tic:0.2f} секунд\")"
      ],
      "id": "d3276234",
      "execution_count": null,
      "outputs": [
        {
          "output_type": "stream",
          "name": "stdout",
          "text": [
            "Расчёты по обрезке дерева заняли 0.91 секунд\n"
          ]
        }
      ]
    },
    {
      "cell_type": "code",
      "metadata": {
        "colab": {
          "base_uri": "https://localhost:8080/"
        },
        "id": "33434419",
        "outputId": "68f859aa-506d-4340-e102-ebfd50812857"
      },
      "source": [
        "# извлекаем характеристики глубины и точности\n",
        "#  таймер\n",
        "tic = time.perf_counter()\n",
        "node_counts = [clf.tree_.node_count for clf in clfs]\n",
        "train_scores = [clf.score(X_train, y_train) for clf in clfs]\n",
        "test_scores = [clf.score(X_test, y_test) for clf in clfs]\n",
        "#  таймер\n",
        "toc = time.perf_counter()\n",
        "print(f\"Расчёты показателей точности заняли {toc - tic:0.2f} секунд\")"
      ],
      "id": "33434419",
      "execution_count": null,
      "outputs": [
        {
          "output_type": "stream",
          "name": "stdout",
          "text": [
            "Расчёты показателей точности заняли 0.48 секунд\n"
          ]
        }
      ]
    },
    {
      "cell_type": "code",
      "metadata": {
        "colab": {
          "base_uri": "https://localhost:8080/",
          "height": 297
        },
        "id": "f502a713",
        "outputId": "e44d8233-6838-4379-b785-ce07da0bf0ee"
      },
      "source": [
        "# изображаем на графике\n",
        "fig, ax = plt.subplots(1, 2)\n",
        "\n",
        "# график глубины дерева\n",
        "ax[0].plot(ccp_alphas, node_counts, marker=',', drawstyle=\"steps-post\")\n",
        "ax[0].set_xlabel(\"значение гиперпараметра alpha\")\n",
        "ax[0].set_ylabel(\"количество узлов\")\n",
        "ax[0].set_title(\"Сложность модели vs alpha\")\n",
        "\n",
        "# график точности\n",
        "ax[1].plot(ccp_alphas, train_scores, marker=',', label='train',\n",
        "           drawstyle=\"steps-post\")\n",
        "ax[1].plot(ccp_alphas, test_scores, marker=',', label='test',\n",
        "           drawstyle=\"steps-post\")\n",
        "ax[1].set_xlabel(\"значение гиперпараметра alpha\")\n",
        "ax[1].set_ylabel(\"Acc\")\n",
        "ax[1].set_title(\"Точность модели  vs alpha\")\n",
        "ax[1].legend()\n",
        "fig.tight_layout()"
      ],
      "id": "f502a713",
      "execution_count": null,
      "outputs": [
        {
          "output_type": "display_data",
          "data": {
            "image/png": "[encoded data removed]",
            "text/plain": [
              "<Figure size 432x288 with 2 Axes>"
            ]
          },
          "metadata": {}
        }
      ]
    },
    {
      "cell_type": "markdown",
      "metadata": {
        "id": "42254d2b"
      },
      "source": [
        "Находим оптимальный размер дерева по максимуму $Acc$ на тестовой выборке.  "
      ],
      "id": "42254d2b"
    },
    {
      "cell_type": "code",
      "metadata": {
        "id": "-AXx98obAFFs"
      },
      "source": [
        "val, idx = min((val, idx) for (idx, val) in enumerate(impurities))"
      ],
      "id": "-AXx98obAFFs",
      "execution_count": null,
      "outputs": []
    },
    {
      "cell_type": "code",
      "metadata": {
        "id": "6SEspW3jAv8e",
        "colab": {
          "base_uri": "https://localhost:8080/"
        },
        "outputId": "6b05e656-ac6f-4671-b38d-afd6d497ac11"
      },
      "source": [
        "val"
      ],
      "id": "6SEspW3jAv8e",
      "execution_count": null,
      "outputs": [
        {
          "output_type": "execute_result",
          "data": {
            "text/plain": [
              "0.0"
            ]
          },
          "metadata": {},
          "execution_count": 78
        }
      ]
    },
    {
      "cell_type": "code",
      "metadata": {
        "colab": {
          "base_uri": "https://localhost:8080/"
        },
        "id": "22746203",
        "outputId": "fc467c8b-7040-44b6-b94f-eb23aabde9d0"
      },
      "source": [
        "# оптимальное количество узлов\n",
        "opt_nodes_num = node_counts[test_scores.index(max(test_scores))]\n",
        "\n",
        "# считаем точность с перекрёстной проверкой, показатель Acc\n",
        "cv = cross_val_score(estimator=clfs[idx], X=X, y=y, cv=5,\n",
        "                    scoring='accuracy')\n",
        "\n",
        "# записываем точность\n",
        "score.append(np.around(np.mean(cv), 3))\n",
        "score_models.append('pruned_tree')\n",
        "\n",
        "print('Оптимальное количество узлов:', opt_nodes_num,\n",
        "      '\\nсоответствующая Acc на тестовой:', np.around(max(test_scores), 3),\n",
        "      '\\n\\nAcc с перекрёстной проверкой',\n",
        "      '\\nдля модели', score_models[1], ':', score[1])"
      ],
      "id": "22746203",
      "execution_count": null,
      "outputs": [
        {
          "output_type": "stream",
          "name": "stdout",
          "text": [
            "Оптимальное количество узлов: 217 \n",
            "соответствующая Acc на тестовой: 0.741 \n",
            "\n",
            "Acc с перекрёстной проверкой \n",
            "для модели pruned_tree : 0.733\n"
          ]
        }
      ]
    },
    {
      "cell_type": "markdown",
      "metadata": {
        "id": "be66ffe3"
      },
      "source": [
        "Посмотрим на характеристики глубины и сложности построенного дерева с обрезкой ветвей."
      ],
      "id": "be66ffe3"
    },
    {
      "cell_type": "code",
      "metadata": {
        "colab": {
          "base_uri": "https://localhost:8080/"
        },
        "id": "9d36d60b",
        "outputId": "2ebfe67a-011f-4064-f173-9dc3673794d2"
      },
      "source": [
        "# выводим количество листьев (количество узлов)\n",
        "clfs[idx].get_n_leaves()"
      ],
      "id": "9d36d60b",
      "execution_count": null,
      "outputs": [
        {
          "output_type": "execute_result",
          "data": {
            "text/plain": [
              "186"
            ]
          },
          "metadata": {},
          "execution_count": 80
        }
      ]
    },
    {
      "cell_type": "code",
      "metadata": {
        "colab": {
          "base_uri": "https://localhost:8080/"
        },
        "id": "be182d99",
        "outputId": "15baf9f3-3bed-4e53-fe04-9beb29fd64e2"
      },
      "source": [
        "# глубина дерева: количество узлов от корня до листа\n",
        "#  в самой длинной ветви\n",
        "clfs[idx].get_depth()"
      ],
      "id": "be182d99",
      "execution_count": null,
      "outputs": [
        {
          "output_type": "execute_result",
          "data": {
            "text/plain": [
              "16"
            ]
          },
          "metadata": {},
          "execution_count": 81
        }
      ]
    },
    {
      "cell_type": "markdown",
      "metadata": {
        "id": "55d3d3e8"
      },
      "source": [
        "---\n",
        "\n",
        "📚 **Пример визуализации небольшого дерева**\n",
        "\n",
        "Лучшее дерево с обрезкой по-прежнему слишком велико для визуализации. Для примера нарисуем одно из небольших деревьев с обрезкой и выведем его же в виде текста.  "
      ],
      "id": "55d3d3e8"
    },
    {
      "cell_type": "code",
      "metadata": {
        "colab": {
          "base_uri": "https://localhost:8080/"
        },
        "id": "c7e4eba9",
        "outputId": "11b39974-4e16-4db8-d708-40d7336f195b"
      },
      "source": [
        "# находим деревья с количеством листьев меньше 20\n",
        "[i for i in node_counts if i < 20]"
      ],
      "id": "c7e4eba9",
      "execution_count": null,
      "outputs": [
        {
          "output_type": "execute_result",
          "data": {
            "text/plain": [
              "[19,\n",
              " 19,\n",
              " 19,\n",
              " 19,\n",
              " 19,\n",
              " 19,\n",
              " 19,\n",
              " 19,\n",
              " 19,\n",
              " 19,\n",
              " 17,\n",
              " 17,\n",
              " 17,\n",
              " 17,\n",
              " 17,\n",
              " 17,\n",
              " 15,\n",
              " 15,\n",
              " 11,\n",
              " 9,\n",
              " 7,\n",
              " 5,\n",
              " 5,\n",
              " 3,\n",
              " 3,\n",
              " 1]"
            ]
          },
          "metadata": {},
          "execution_count": 82
        }
      ]
    },
    {
      "cell_type": "code",
      "metadata": {
        "colab": {
          "base_uri": "https://localhost:8080/",
          "height": 1000
        },
        "id": "af09592a",
        "outputId": "62213ad0-87f3-40f8-c251-79a0489924de"
      },
      "source": [
        "# визуализация на схеме НА ПРИМЕРЕ МАЛЕНЬКОГО ДЕРЕВА\n",
        "nodes_num = 11\n",
        "print('Количество узлов:', nodes_num,\n",
        "      '\\nТочность дерева на тестовой:', \n",
        "      np.around(test_scores[node_counts.index(nodes_num)], 3))\n",
        "\n",
        "fig = plt.figure(figsize=(25,20))\n",
        "_ = plot_tree(clfs[node_counts.index(nodes_num)], \n",
        "              filled=True, \n",
        "              feature_names=list(X.columns))"
      ],
      "id": "af09592a",
      "execution_count": null,
      "outputs": [
        {
          "output_type": "stream",
          "name": "stdout",
          "text": [
            "Количество узлов: 11 \n",
            "Точность дерева на тестовой: 0.676\n"
          ]
        },
        {
          "output_type": "display_data",
          "data": {
            "image/png": "[encoded data removed]",
            "text/plain": [
              "<Figure size 1800x1440 with 1 Axes>"
            ]
          },
          "metadata": {}
        }
      ]
    },
    {
      "cell_type": "code",
      "metadata": {
        "colab": {
          "base_uri": "https://localhost:8080/"
        },
        "id": "f46adc5c",
        "outputId": "2cc1a2c5-9c34-4dce-a0c7-043016d8d04e"
      },
      "source": [
        "# визуализируем дерево в виде текстовой схемы\n",
        "viz = export_text(clfs[node_counts.index(nodes_num)], \n",
        "                  feature_names=list(X.columns))\n",
        "print(viz)"
      ],
      "id": "f46adc5c",
      "execution_count": null,
      "outputs": [
        {
          "output_type": "stream",
          "name": "stdout",
          "text": [
            "|--- alcohol <= 10.15\n",
            "|   |--- sulphates <= 0.57\n",
            "|   |   |--- class: 0\n",
            "|   |--- sulphates >  0.57\n",
            "|   |   |--- total_sulfur_dioxide <= 50.50\n",
            "|   |   |   |--- class: 1\n",
            "|   |   |--- total_sulfur_dioxide >  50.50\n",
            "|   |   |   |--- class: 0\n",
            "|--- alcohol >  10.15\n",
            "|   |--- alcohol <= 11.45\n",
            "|   |   |--- pH <= 3.48\n",
            "|   |   |   |--- class: 1\n",
            "|   |   |--- pH >  3.48\n",
            "|   |   |   |--- class: 0\n",
            "|   |--- alcohol >  11.45\n",
            "|   |   |--- class: 1\n",
            "\n"
          ]
        }
      ]
    },
    {
      "cell_type": "markdown",
      "metadata": {
        "id": "5d46e811"
      },
      "source": [
        "---\n",
        "\n",
        "# Бэггинг  \n",
        "\n",
        "Модель бэггинга использует бутстреп, чтобы вырастить $B$ деревьев на выборках с повторами из обучающих данных. Построим модель для $B=50$ деревьев.  \n",
        "\n"
      ],
      "id": "5d46e811"
    },
    {
      "cell_type": "code",
      "metadata": {
        "colab": {
          "base_uri": "https://localhost:8080/"
        },
        "id": "1038a6aa",
        "outputId": "e6a55fa2-a81e-46b1-f3a7-185a2a9bcd99"
      },
      "source": [
        "# параметр B: количество деревьев\n",
        "num_trees = 50\n",
        "\n",
        "# разбиения для перекрёстной проверки\n",
        "kfold = KFold(n_splits=5, random_state=my_seed, shuffle=True)\n",
        "\n",
        "# таймер\n",
        "tic = time.perf_counter()\n",
        "# модель с бэггингом\n",
        "tree_bag = BaggingClassifier(base_estimator=cls_one_tree,\n",
        "                             n_estimators=num_trees,\n",
        "                             random_state=my_seed)\n",
        "\n",
        "cv = cross_val_score(tree_bag, X, y, cv=kfold)\n",
        "\n",
        "# таймер\n",
        "toc = time.perf_counter()\n",
        "print(f\"Обучение модели с бэггингом на {num_trees:0.0f} деревьях\", \n",
        "      \" и перекрёстной проверкой \", \n",
        "      f\"заняло {toc - tic:0.2f} секунд\", sep='')"
      ],
      "id": "1038a6aa",
      "execution_count": null,
      "outputs": [
        {
          "output_type": "stream",
          "name": "stdout",
          "text": [
            "Обучение модели с бэггингом на 50 деревьях и перекрёстной проверкой заняло 1.86 секунд\n"
          ]
        }
      ]
    },
    {
      "cell_type": "code",
      "metadata": {
        "id": "zp7xlb0mBbzT",
        "colab": {
          "base_uri": "https://localhost:8080/"
        },
        "outputId": "1c88b80b-6b95-4d17-dc35-2e83960d69cd"
      },
      "source": [
        "# точность\n",
        "np.around(np.mean(cv), 3)"
      ],
      "id": "zp7xlb0mBbzT",
      "execution_count": null,
      "outputs": [
        {
          "output_type": "execute_result",
          "data": {
            "text/plain": [
              "0.795"
            ]
          },
          "metadata": {},
          "execution_count": 86
        }
      ]
    },
    {
      "cell_type": "markdown",
      "metadata": {
        "id": "wRX7trSnBehH"
      },
      "source": [
        "Итак, мы построили модель, выбрав параметр $B$ случайным образом. Воспользуемся функцией `GridSearchCV()`, чтобы перебрать 5 вариантов значений для параметра $B$.  "
      ],
      "id": "wRX7trSnBehH"
    },
    {
      "cell_type": "code",
      "metadata": {
        "colab": {
          "base_uri": "https://localhost:8080/"
        },
        "id": "5b717e72",
        "outputId": "b012cdda-4c3c-4976-a090-014a99a180e2"
      },
      "source": [
        "# настроим параметры бэггинга с помощью сеточного поиска\n",
        "param_grid = {'n_estimators' : [10, 20, 30, 40, 50]}\n",
        "\n",
        "# таймер\n",
        "tic = time.perf_counter()\n",
        "clf = GridSearchCV(BaggingClassifier(DecisionTreeClassifier()),\n",
        "                  param_grid, scoring='accuracy', cv=kfold)\n",
        "\n",
        "tree_bag = clf.fit(X, y)\n",
        "# таймер\n",
        "toc = time.perf_counter()\n",
        "print(f\"Сеточный поиск занял {toc - tic:0.2f} секунд\", sep='')"
      ],
      "id": "5b717e72",
      "execution_count": null,
      "outputs": [
        {
          "output_type": "stream",
          "name": "stdout",
          "text": [
            "Сеточный поиск занял 4.48 секунд\n"
          ]
        }
      ]
    },
    {
      "cell_type": "code",
      "metadata": {
        "colab": {
          "base_uri": "https://localhost:8080/"
        },
        "id": "845a80be",
        "outputId": "0f989335-c04f-4453-f68d-05aaff8eff27"
      },
      "source": [
        "# точность лучшей модели\n",
        "np.around(tree_bag.best_score_, 3)"
      ],
      "id": "845a80be",
      "execution_count": null,
      "outputs": [
        {
          "output_type": "execute_result",
          "data": {
            "text/plain": [
              "0.789"
            ]
          },
          "metadata": {},
          "execution_count": 88
        }
      ]
    },
    {
      "cell_type": "code",
      "metadata": {
        "id": "NzSvbNEdBnj3",
        "colab": {
          "base_uri": "https://localhost:8080/"
        },
        "outputId": "af564a96-a524-4f4c-cc63-53f56bd91cbd"
      },
      "source": [
        "# количество деревьев у лучшей модели\n",
        "tree_bag.best_params_"
      ],
      "id": "NzSvbNEdBnj3",
      "execution_count": null,
      "outputs": [
        {
          "output_type": "execute_result",
          "data": {
            "text/plain": [
              "{'n_estimators': 40}"
            ]
          },
          "metadata": {},
          "execution_count": 89
        }
      ]
    },
    {
      "cell_type": "code",
      "metadata": {
        "id": "RXu9SLMOBtNw",
        "colab": {
          "base_uri": "https://localhost:8080/"
        },
        "outputId": "ae7e4d74-dae5-432e-e138-73839e2f114c"
      },
      "source": [
        "tree_bag.best_estimator_.get_params()"
      ],
      "id": "RXu9SLMOBtNw",
      "execution_count": null,
      "outputs": [
        {
          "output_type": "execute_result",
          "data": {
            "text/plain": [
              "{'base_estimator': DecisionTreeClassifier(),\n",
              " 'base_estimator__ccp_alpha': 0.0,\n",
              " 'base_estimator__class_weight': None,\n",
              " 'base_estimator__criterion': 'gini',\n",
              " 'base_estimator__max_depth': None,\n",
              " 'base_estimator__max_features': None,\n",
              " 'base_estimator__max_leaf_nodes': None,\n",
              " 'base_estimator__min_impurity_decrease': 0.0,\n",
              " 'base_estimator__min_samples_leaf': 1,\n",
              " 'base_estimator__min_samples_split': 2,\n",
              " 'base_estimator__min_weight_fraction_leaf': 0.0,\n",
              " 'base_estimator__random_state': None,\n",
              " 'base_estimator__splitter': 'best',\n",
              " 'bootstrap': True,\n",
              " 'bootstrap_features': False,\n",
              " 'max_features': 1.0,\n",
              " 'max_samples': 1.0,\n",
              " 'n_estimators': 40,\n",
              " 'n_jobs': None,\n",
              " 'oob_score': False,\n",
              " 'random_state': None,\n",
              " 'verbose': 0,\n",
              " 'warm_start': False}"
            ]
          },
          "metadata": {},
          "execution_count": 90
        }
      ]
    },
    {
      "cell_type": "markdown",
      "metadata": {
        "id": "sz5K_qXfBwIi"
      },
      "source": [
        "Таким образом, перебрав несколько вариантов для $B$, мы немного улучшили первоначальную точность модели бэггинга.  "
      ],
      "id": "sz5K_qXfBwIi"
    },
    {
      "cell_type": "code",
      "metadata": {
        "id": "SiLfOhdXB1ns",
        "colab": {
          "base_uri": "https://localhost:8080/"
        },
        "outputId": "b0ce7e89-74ad-457e-fbc3-30372efe5951"
      },
      "source": [
        "# записываем точность\n",
        "score.append(np.around(tree_bag.best_score_, 3))\n",
        "score_models.append('bagging_GS')\n",
        "\n",
        "print('Acc с перекрёстной проверкой',\n",
        "      '\\nдля модели', score_models[2], ':', score[2])"
      ],
      "id": "SiLfOhdXB1ns",
      "execution_count": null,
      "outputs": [
        {
          "output_type": "stream",
          "name": "stdout",
          "text": [
            "Acc с перекрёстной проверкой \n",
            "для модели bagging_GS : 0.789\n"
          ]
        }
      ]
    },
    {
      "cell_type": "markdown",
      "metadata": {
        "id": "041010d5"
      },
      "source": [
        "\n",
        "# Прогноз на отложенные наблюдения по лучшей модели\n",
        "\n",
        "Ещё раз посмотрим на точность построенных моделей.  "
      ],
      "id": "041010d5"
    },
    {
      "cell_type": "code",
      "metadata": {
        "colab": {
          "base_uri": "https://localhost:8080/",
          "height": 142
        },
        "id": "13f506f8",
        "outputId": "a12bec48-7880-4005-ec87-7a7cde13cd58"
      },
      "source": [
        "# сводка по точности моделей\n",
        "pd.DataFrame({'Модель' : score_models, 'Acc' : score})"
      ],
      "id": "13f506f8",
      "execution_count": null,
      "outputs": [
        {
          "output_type": "execute_result",
          "data": {
            "text/html": [
              "<div>\n",
              "<style scoped>\n",
              "    .dataframe tbody tr th:only-of-type {\n",
              "        vertical-align: middle;\n",
              "    }\n",
              "\n",
              "    .dataframe tbody tr th {\n",
              "        vertical-align: top;\n",
              "    }\n",
              "\n",
              "    .dataframe thead th {\n",
              "        text-align: right;\n",
              "    }\n",
              "</style>\n",
              "<table border=\"1\" class=\"dataframe\">\n",
              "  <thead>\n",
              "    <tr style=\"text-align: right;\">\n",
              "      <th></th>\n",
              "      <th>Модель</th>\n",
              "      <th>Acc</th>\n",
              "    </tr>\n",
              "  </thead>\n",
              "  <tbody>\n",
              "    <tr>\n",
              "      <th>0</th>\n",
              "      <td>one_tree</td>\n",
              "      <td>0.724</td>\n",
              "    </tr>\n",
              "    <tr>\n",
              "      <th>1</th>\n",
              "      <td>pruned_tree</td>\n",
              "      <td>0.733</td>\n",
              "    </tr>\n",
              "    <tr>\n",
              "      <th>2</th>\n",
              "      <td>bagging_GS</td>\n",
              "      <td>0.789</td>\n",
              "    </tr>\n",
              "  </tbody>\n",
              "</table>\n",
              "</div>"
            ],
            "text/plain": [
              "        Модель    Acc\n",
              "0     one_tree  0.724\n",
              "1  pruned_tree  0.733\n",
              "2   bagging_GS  0.789"
            ]
          },
          "metadata": {},
          "execution_count": 93
        }
      ]
    },
    {
      "cell_type": "markdown",
      "metadata": {
        "id": "99c7c905"
      },
      "source": [
        "Все модели показывают среднюю точность по показателю $Acc$, при этом самой точной оказывается модель бэггинга. Сделаем прогноз на отложенные наблюдения.   "
      ],
      "id": "99c7c905"
    },
    {
      "cell_type": "code",
      "metadata": {
        "colab": {
          "base_uri": "https://localhost:8080/"
        },
        "id": "6f19fd52",
        "outputId": "6d4bb88e-516c-4d37-eb57-937bd99c1e6f"
      },
      "source": [
        "# данные для прогноза\n",
        "X_pred = DF_predict.drop(['Y'], axis=1)\n",
        "# строим прогноз\n",
        "y_hat = tree_bag.best_estimator_.predict(X_pred)\n",
        "# характеристики точности\n",
        "print(classification_report(DF_predict['Y'], y_hat))"
      ],
      "id": "6f19fd52",
      "execution_count": null,
      "outputs": [
        {
          "output_type": "stream",
          "name": "stdout",
          "text": [
            "              precision    recall  f1-score   support\n",
            "\n",
            "           0       0.78      0.84      0.81       113\n",
            "           1       0.85      0.79      0.82       127\n",
            "\n",
            "    accuracy                           0.81       240\n",
            "   macro avg       0.81      0.81      0.81       240\n",
            "weighted avg       0.82      0.81      0.81       240\n",
            "\n"
          ]
        }
      ]
    },
    {
      "cell_type": "markdown",
      "metadata": {
        "id": "dkfMtzCtKukP"
      },
      "source": [
        "Сравним точность на отложенных наблюдениях с точностью моделей из упражнения 3 (ЛР 4).\n",
        "![image.png](data:image/png;base64,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)"
      ],
      "id": "dkfMtzCtKukP"
    },
    {
      "cell_type": "markdown",
      "metadata": {
        "id": "x3YaJod3NcZI"
      },
      "source": [
        "![image.png](data:image/png;base64,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)"
      ],
      "id": "x3YaJod3NcZI"
    },
    {
      "cell_type": "markdown",
      "metadata": {
        "id": "Zp73r8wSK30s"
      },
      "source": [
        "Точность моделей из упражнения 3 оказалась лучше."
      ],
      "id": "Zp73r8wSK30s"
    },
    {
      "cell_type": "markdown",
      "metadata": {
        "id": "af39298f"
      },
      "source": [
        "# Источники \n",
        "\n",
        "1. Джеймс Г., Уиттон Д., Хасти Т., Тибширани Р. Введение в статистическое обучение с примерами на языке R. Пер. с англ. С.Э. Мастицкого – М.: ДМК Пресс, 2016 – 450 с.  \n",
        "1. *Рашка С.* Python и машинное обучение: крайне необходимое пособие по новейшей предсказательной аналитике, обязательное для более глубокого понимания методологии машинного обучения / пер. с англ. А.В. Логунова. – М.: ДМК Пресс, 2017. – 418 с.: ил.  \n",
        "1. *Tong Wang*, *Cynthia Rudin*, *Finale Doshi-Velez*, *Yimin Liu*, *Erica Klampfl*, *Perry MacNeille* A Bayesian Framework for Learning Rule Sets for Interpretable Classification / Journal of Machine Learning Research 18 (2017) 1-37. URL: <https://jmlr.org/papers/volume18/16-003/16-003.pdf>  \n",
        "1. *George Pipis* How to Run the Chi-Square Test in Python / medium.com. URL: <https://medium.com/swlh/how-to-run-chi-square-test-in-python-4e9f5d10249d>   \n",
        "1. *Bernd Klein* What are Decision Trees? / python-course.eu. URL: <https://www.python-course.eu/Decision_Trees.php>  \n",
        "1. Pruning decision trees - tutorial / kaggle.com. URL: <https://www.kaggle.com/arunmohan003/pruning-decision-trees-tutorial>  \n",
        "1. Post pruning decision trees with cost complexity pruning / scikit-learn.org. URL: <https://scikit-learn.org/stable/auto_examples/tree/plot_cost_complexity_pruning.html>  \n",
        "1. *Piotr Płoński* Visualize a Decision Tree in 4 Ways with Scikit-Learn and Python / mljar.com. URL: <https://mljar.com/blog/visualize-decision-tree/>  \n",
        "1. Random Forest Feature Importance Plot / www.analyseup.com. URL: <https://www.analyseup.com/learn-python-for-data-science/python-random-forest-feature-importance-plot.html>  "
      ],
      "id": "af39298f"
    }
  ]
}